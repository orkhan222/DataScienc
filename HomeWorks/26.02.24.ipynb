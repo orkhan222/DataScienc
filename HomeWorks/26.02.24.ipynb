{
 "cells": [
  {
   "cell_type": "code",
   "execution_count": 1,
   "metadata": {},
   "outputs": [],
   "source": [
    "import pandas as pd\n",
    "import numpy as np\n",
    "from sklearn.preprocessing import StandardScaler, LabelEncoder\n",
    "from sklearn.cluster import KMeans, DBSCAN\n",
    "from sklearn.metrics import silhouette_score"
   ]
  },
  {
   "cell_type": "code",
   "execution_count": 2,
   "metadata": {},
   "outputs": [
    {
     "data": {
      "text/html": [
       "<div>\n",
       "<style scoped>\n",
       "    .dataframe tbody tr th:only-of-type {\n",
       "        vertical-align: middle;\n",
       "    }\n",
       "\n",
       "    .dataframe tbody tr th {\n",
       "        vertical-align: top;\n",
       "    }\n",
       "\n",
       "    .dataframe thead th {\n",
       "        text-align: right;\n",
       "    }\n",
       "</style>\n",
       "<table border=\"1\" class=\"dataframe\">\n",
       "  <thead>\n",
       "    <tr style=\"text-align: right;\">\n",
       "      <th></th>\n",
       "      <th>product_link</th>\n",
       "      <th>prc-dsc</th>\n",
       "      <th>rating-line-count</th>\n",
       "      <th>total-review-count</th>\n",
       "      <th>favorite-count</th>\n",
       "      <th>campaign-name</th>\n",
       "      <th>dd-txt-vl</th>\n",
       "      <th>sl-pn</th>\n",
       "      <th>seller-name-text</th>\n",
       "      <th>Renk</th>\n",
       "      <th>Garanti Süresi</th>\n",
       "      <th>Aktif Gürültü Önleme (ANC)</th>\n",
       "      <th>Mikrofon</th>\n",
       "      <th>Bluetooth Versiyon</th>\n",
       "      <th>Suya/Tere Dayanıklılık</th>\n",
       "      <th>Dokunmatik Kontrol</th>\n",
       "      <th>Çift Telefon Desteği</th>\n",
       "      <th>Garanti Tipi</th>\n",
       "      <th>Model</th>\n",
       "    </tr>\n",
       "  </thead>\n",
       "  <tbody>\n",
       "    <tr>\n",
       "      <th>0</th>\n",
       "      <td>https://www.trendyol.com/maybax/kablosuz-bluet...</td>\n",
       "      <td>289,90 TL</td>\n",
       "      <td>Not found</td>\n",
       "      <td>Not found</td>\n",
       "      <td>Not found</td>\n",
       "      <td>150 TL ve Üzeri Kargo Bedava (Satıcı Karşılar)</td>\n",
       "      <td>Not found</td>\n",
       "      <td>8.5</td>\n",
       "      <td>KZL Teknoloji</td>\n",
       "      <td>Pembe</td>\n",
       "      <td>2 Yıl</td>\n",
       "      <td>Var</td>\n",
       "      <td>Var</td>\n",
       "      <td>5.0</td>\n",
       "      <td>Var</td>\n",
       "      <td>Yok</td>\n",
       "      <td>NaN</td>\n",
       "      <td>NaN</td>\n",
       "      <td>NaN</td>\n",
       "    </tr>\n",
       "    <tr>\n",
       "      <th>1</th>\n",
       "      <td>https://www.trendyol.com/sony/wh-ch710n-blueto...</td>\n",
       "      <td>8.587 TL</td>\n",
       "      <td>Not found</td>\n",
       "      <td>Not found</td>\n",
       "      <td>339</td>\n",
       "      <td>150 TL ve Üzeri Kargo Bedava (Satıcı Karşılar)</td>\n",
       "      <td>2 gün içinde</td>\n",
       "      <td>8.6</td>\n",
       "      <td>e-babil elektronik</td>\n",
       "      <td>Mavi</td>\n",
       "      <td>2 Yıl</td>\n",
       "      <td>Var</td>\n",
       "      <td>Var</td>\n",
       "      <td>NaN</td>\n",
       "      <td>NaN</td>\n",
       "      <td>NaN</td>\n",
       "      <td>NaN</td>\n",
       "      <td>NaN</td>\n",
       "      <td>NaN</td>\n",
       "    </tr>\n",
       "  </tbody>\n",
       "</table>\n",
       "</div>"
      ],
      "text/plain": [
       "                                        product_link    prc-dsc  \\\n",
       "0  https://www.trendyol.com/maybax/kablosuz-bluet...  289,90 TL   \n",
       "1  https://www.trendyol.com/sony/wh-ch710n-blueto...   8.587 TL   \n",
       "\n",
       "  rating-line-count total-review-count favorite-count  \\\n",
       "0         Not found          Not found      Not found   \n",
       "1         Not found          Not found            339   \n",
       "\n",
       "                                    campaign-name     dd-txt-vl sl-pn  \\\n",
       "0  150 TL ve Üzeri Kargo Bedava (Satıcı Karşılar)     Not found   8.5   \n",
       "1  150 TL ve Üzeri Kargo Bedava (Satıcı Karşılar)  2 gün içinde   8.6   \n",
       "\n",
       "     seller-name-text   Renk Garanti Süresi Aktif Gürültü Önleme (ANC)  \\\n",
       "0       KZL Teknoloji  Pembe          2 Yıl                        Var   \n",
       "1  e-babil elektronik   Mavi          2 Yıl                        Var   \n",
       "\n",
       "  Mikrofon  Bluetooth Versiyon Suya/Tere Dayanıklılık Dokunmatik Kontrol  \\\n",
       "0      Var                 5.0                    Var                Yok   \n",
       "1      Var                 NaN                    NaN                NaN   \n",
       "\n",
       "  Çift Telefon Desteği Garanti Tipi Model  \n",
       "0                  NaN          NaN   NaN  \n",
       "1                  NaN          NaN   NaN  "
      ]
     },
     "execution_count": 2,
     "metadata": {},
     "output_type": "execute_result"
    }
   ],
   "source": [
    "df = pd.read_excel(r'../Datasets/test_dataset_new.xlsx')\n",
    "df.head(2)"
   ]
  },
  {
   "cell_type": "code",
   "execution_count": 3,
   "metadata": {},
   "outputs": [],
   "source": [
    "# Replace 'Not found' with np.nan and fill numerical missing values with the mean\n",
    "df.replace('Not found', np.nan, inplace=True)\n",
    "df['rating-line-count'] = df['rating-line-count'].astype(float)\n",
    "df['total-review-count'] = pd.to_numeric(df['total-review-count'], errors='coerce')\n",
    "df['favorite-count'] = pd.to_numeric(df['favorite-count'], errors='coerce')\n",
    "df.fillna(df.mean(numeric_only=True), inplace=True)"
   ]
  },
  {
   "cell_type": "code",
   "execution_count": 19,
   "metadata": {},
   "outputs": [],
   "source": [
    "# Encoding categorical features\n",
    "categorical_features = ['Renk', 'Aktif Gürültü Önleme (ANC)', 'Mikrofon', 'Suya/Tere Dayanıklılık', 'Dokunmatik Kontrol', 'Çift Telefon Desteği']\n",
    "for feature in categorical_features:\n",
    "    df[feature] = LabelEncoder().fit_transform(df[feature].astype(str))"
   ]
  },
  {
   "cell_type": "code",
   "execution_count": 20,
   "metadata": {},
   "outputs": [],
   "source": [
    "# Selecting relevant features for clustering\n",
    "features_for_clustering = ['rating-line-count', 'total-review-count', 'favorite-count'] + categorical_features\n",
    "X = df[features_for_clustering]"
   ]
  },
  {
   "cell_type": "code",
   "execution_count": 21,
   "metadata": {},
   "outputs": [],
   "source": [
    "# Scaling the features\n",
    "scaler = StandardScaler()\n",
    "X_scaled = scaler.fit_transform(X)"
   ]
  },
  {
   "cell_type": "code",
   "execution_count": 22,
   "metadata": {},
   "outputs": [
    {
     "name": "stderr",
     "output_type": "stream",
     "text": [
      "c:\\Users\\user\\anaconda3\\Lib\\site-packages\\sklearn\\cluster\\_kmeans.py:1412: FutureWarning: The default value of `n_init` will change from 10 to 'auto' in 1.4. Set the value of `n_init` explicitly to suppress the warning\n",
      "  super()._check_params_vs_input(X, default_n_init=10)\n"
     ]
    }
   ],
   "source": [
    "# Applying K-Means clustering\n",
    "kmeans = KMeans(n_clusters=3, random_state=42)\n",
    "kmeans_labels = kmeans.fit_predict(X_scaled)"
   ]
  },
  {
   "cell_type": "code",
   "execution_count": 23,
   "metadata": {},
   "outputs": [],
   "source": [
    "# Applying DBSCAN clustering\n",
    "dbscan = DBSCAN(eps=0.5, min_samples=5)\n",
    "dbscan_labels = dbscan.fit_predict(X_scaled)"
   ]
  },
  {
   "cell_type": "code",
   "execution_count": 24,
   "metadata": {},
   "outputs": [],
   "source": [
    "# Evaluating the performance of the clustering algorithms using silhouette score\n",
    "kmeans = silhouette_score(X_scaled, kmeans_labels)\n",
    "dbscan = silhouette_score(X_scaled, dbscan_labels, metric='euclidean')"
   ]
  },
  {
   "cell_type": "code",
   "execution_count": 25,
   "metadata": {},
   "outputs": [
    {
     "name": "stdout",
     "output_type": "stream",
     "text": [
      " K-Means: 0.36197247326253645\n",
      " DBSCAN: 0.2351155395593626\n"
     ]
    }
   ],
   "source": [
    "\n",
    "print(f\" K-Means: {kmeans}\")\n",
    "print(f\" DBSCAN: {dbscan}\")"
   ]
  }
 ],
 "metadata": {
  "kernelspec": {
   "display_name": "base",
   "language": "python",
   "name": "python3"
  },
  "language_info": {
   "codemirror_mode": {
    "name": "ipython",
    "version": 3
   },
   "file_extension": ".py",
   "mimetype": "text/x-python",
   "name": "python",
   "nbconvert_exporter": "python",
   "pygments_lexer": "ipython3",
   "version": "3.11.5"
  }
 },
 "nbformat": 4,
 "nbformat_minor": 2
}
