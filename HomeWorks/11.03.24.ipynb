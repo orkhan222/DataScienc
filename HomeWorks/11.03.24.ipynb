{
 "cells": [
  {
   "cell_type": "code",
   "execution_count": 41,
   "metadata": {},
   "outputs": [],
   "source": [
    "# import\n",
    "import pandas as pd"
   ]
  },
  {
   "cell_type": "code",
   "execution_count": 42,
   "metadata": {},
   "outputs": [
    {
     "data": {
      "text/html": [
       "<div>\n",
       "<style scoped>\n",
       "    .dataframe tbody tr th:only-of-type {\n",
       "        vertical-align: middle;\n",
       "    }\n",
       "\n",
       "    .dataframe tbody tr th {\n",
       "        vertical-align: top;\n",
       "    }\n",
       "\n",
       "    .dataframe thead th {\n",
       "        text-align: right;\n",
       "    }\n",
       "</style>\n",
       "<table border=\"1\" class=\"dataframe\">\n",
       "  <thead>\n",
       "    <tr style=\"text-align: right;\">\n",
       "      <th></th>\n",
       "      <th>Unnamed: 0</th>\n",
       "      <th>Order ID</th>\n",
       "      <th>Product</th>\n",
       "      <th>Quantity Ordered</th>\n",
       "      <th>Price Each</th>\n",
       "      <th>Order Date</th>\n",
       "      <th>Purchase Address</th>\n",
       "      <th>Month</th>\n",
       "      <th>Sales</th>\n",
       "      <th>City</th>\n",
       "      <th>Hour</th>\n",
       "    </tr>\n",
       "  </thead>\n",
       "  <tbody>\n",
       "    <tr>\n",
       "      <th>0</th>\n",
       "      <td>0</td>\n",
       "      <td>295665</td>\n",
       "      <td>Macbook Pro Laptop</td>\n",
       "      <td>1</td>\n",
       "      <td>1700.0</td>\n",
       "      <td>2019-12-30 00:01:00</td>\n",
       "      <td>136 Church St, New York City, NY 10001</td>\n",
       "      <td>12</td>\n",
       "      <td>1700.0</td>\n",
       "      <td>New York City</td>\n",
       "      <td>0</td>\n",
       "    </tr>\n",
       "    <tr>\n",
       "      <th>1</th>\n",
       "      <td>1</td>\n",
       "      <td>295666</td>\n",
       "      <td>LG Washing Machine</td>\n",
       "      <td>1</td>\n",
       "      <td>600.0</td>\n",
       "      <td>2019-12-29 07:03:00</td>\n",
       "      <td>562 2nd St, New York City, NY 10001</td>\n",
       "      <td>12</td>\n",
       "      <td>600.0</td>\n",
       "      <td>New York City</td>\n",
       "      <td>7</td>\n",
       "    </tr>\n",
       "  </tbody>\n",
       "</table>\n",
       "</div>"
      ],
      "text/plain": [
       "   Unnamed: 0  Order ID             Product  Quantity Ordered  Price Each  \\\n",
       "0           0    295665  Macbook Pro Laptop                 1      1700.0   \n",
       "1           1    295666  LG Washing Machine                 1       600.0   \n",
       "\n",
       "            Order Date                        Purchase Address  Month   Sales  \\\n",
       "0  2019-12-30 00:01:00  136 Church St, New York City, NY 10001     12  1700.0   \n",
       "1  2019-12-29 07:03:00     562 2nd St, New York City, NY 10001     12   600.0   \n",
       "\n",
       "             City  Hour  \n",
       "0   New York City     0  \n",
       "1   New York City     7  "
      ]
     },
     "execution_count": 42,
     "metadata": {},
     "output_type": "execute_result"
    }
   ],
   "source": [
    "df = pd.read_csv(r'../Datasets/Sales Data.csv')\n",
    "df.head(2)"
   ]
  },
  {
   "cell_type": "code",
   "execution_count": 43,
   "metadata": {},
   "outputs": [
    {
     "name": "stdout",
     "output_type": "stream",
     "text": [
      "Total Quantity: 23975\n",
      "Total Sales : $286501.25\n"
     ]
    }
   ],
   "source": [
    "\n",
    "product_data = df[df['Product'] == 'USB-C Charging Cable']\n",
    "\n",
    "total_quantity = product_data['Quantity Ordered'].sum()\n",
    "\n",
    "total_sales = product_data['Sales'].sum()\n",
    "print(f\"Total Quantity: {total_quantity}\")\n",
    "print(f\"Total Sales : ${total_sales:.2f}\")\n"
   ]
  },
  {
   "cell_type": "code",
   "execution_count": 44,
   "metadata": {},
   "outputs": [
    {
     "name": "stdout",
     "output_type": "stream",
     "text": [
      "Best-selling Product: AAA Batteries (4-pack)\n",
      "Total Quantity Sold: 31017\n",
      "Total Sales: $92740.83\n"
     ]
    }
   ],
   "source": [
    "product_sales_summary = df.groupby('Product').agg({\n",
    "    'Quantity Ordered': 'sum',\n",
    "    'Sales': 'sum'\n",
    "}).reset_index()\n",
    "\n",
    "best_selling_product = product_sales_summary.sort_values('Quantity Ordered', ascending=False).iloc[0]\n",
    "\n",
    "product_name = best_selling_product['Product']\n",
    "total_quantity = best_selling_product['Quantity Ordered']\n",
    "total_sales = best_selling_product['Sales']\n",
    "\n",
    "\n",
    "print(f\"Best-selling Product: {product_name}\")\n",
    "print(f\"Total Quantity Sold: {total_quantity}\")\n",
    "print(f\"Total Sales: ${total_sales:.2f}\")\n"
   ]
  },
  {
   "cell_type": "code",
   "execution_count": 45,
   "metadata": {},
   "outputs": [
    {
     "name": "stdout",
     "output_type": "stream",
     "text": [
      "                       Product  Quantity Ordered       Sales\n",
      "0       AAA Batteries (4-pack)             31017    92740.83\n",
      "1        AA Batteries (4-pack)             27635   106118.40\n",
      "2         USB-C Charging Cable             23975   286501.25\n",
      "3     Lightning Charging Cable             23217   347094.15\n",
      "4             Wired Headphones             20557   246478.43\n",
      "5     Apple Airpods Headphones             15661  2349150.00\n",
      "6   Bose SoundSport Headphones             13457  1345565.43\n",
      "7             27in FHD Monitor              7550  1132424.50\n",
      "8                       iPhone              6849  4794300.00\n",
      "9       27in 4K Gaming Monitor              6244  2435097.56\n",
      "10      34in Ultrawide Monitor              6199  2355558.01\n",
      "11                Google Phone              5532  3319200.00\n",
      "12               Flatscreen TV              4819  1445700.00\n",
      "13          Macbook Pro Laptop              4728  8037600.00\n",
      "14             ThinkPad Laptop              4130  4129958.70\n",
      "15                20in Monitor              4129   454148.71\n",
      "16             Vareebadd Phone              2068   827200.00\n",
      "17          LG Washing Machine               666   399600.00\n",
      "18                    LG Dryer               646   387600.00\n"
     ]
    }
   ],
   "source": [
    "product_summary = df.groupby('Product').agg({\n",
    "    'Quantity Ordered': 'sum',\n",
    "    'Sales': 'sum'\n",
    "}).sort_values('Quantity Ordered', ascending=False).reset_index()c\n",
    "\n",
    "print(product_summary)\n"
   ]
  },
  {
   "cell_type": "code",
   "execution_count": null,
   "metadata": {},
   "outputs": [],
   "source": []
  }
 ],
 "metadata": {
  "kernelspec": {
   "display_name": "base",
   "language": "python",
   "name": "python3"
  },
  "language_info": {
   "codemirror_mode": {
    "name": "ipython",
    "version": 3
   },
   "file_extension": ".py",
   "mimetype": "text/x-python",
   "name": "python",
   "nbconvert_exporter": "python",
   "pygments_lexer": "ipython3",
   "version": "3.11.5"
  }
 },
 "nbformat": 4,
 "nbformat_minor": 2
}
