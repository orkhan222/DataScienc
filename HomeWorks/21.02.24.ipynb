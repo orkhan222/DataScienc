{
 "cells": [
  {
   "cell_type": "code",
   "execution_count": 19,
   "metadata": {},
   "outputs": [],
   "source": [
    "# import\n",
    "import pandas as pd\n",
    "from collections import defaultdict"
   ]
  },
  {
   "cell_type": "code",
   "execution_count": 20,
   "metadata": {},
   "outputs": [],
   "source": [
    "df = pd.read_csv(r'../Datasets/w9_car_price_prediction.csv')"
   ]
  },
  {
   "cell_type": "code",
   "execution_count": 21,
   "metadata": {},
   "outputs": [
    {
     "name": "stdout",
     "output_type": "stream",
     "text": [
      "     Model Manufacturer  Price    Base Price\n",
      "0   RX 450        LEXUS  13328  10673.098266\n",
      "1  Equinox    CHEVROLET  16621   8751.652174\n",
      "2      FIT        HONDA   8467  11088.957399\n",
      "3   Escape         FORD   3607   8159.228188\n",
      "4      FIT        HONDA  11726  11088.957399\n"
     ]
    }
   ],
   "source": [
    "model_avg_price = df.groupby('Model')['Price'].mean()\n",
    "manufacturer_avg_price = df.groupby('Manufacturer')['Price'].mean()\n",
    "\n",
    "def calculate_base_price(row):\n",
    "    if row['Model'] in model_avg_price.index and model_avg_price[row['Model']] >= 100:\n",
    "        return model_avg_price[row['Model']]\n",
    "    else:\n",
    "        return manufacturer_avg_price[row['Manufacturer']]\n",
    "\n",
    "df['Base Price'] = df.apply(calculate_base_price, axis=1)\n",
    "\n",
    "print(df[['Model', 'Manufacturer', 'Price', 'Base Price']].head(5))\n"
   ]
  }
 ],
 "metadata": {
  "kernelspec": {
   "display_name": "base",
   "language": "python",
   "name": "python3"
  },
  "language_info": {
   "codemirror_mode": {
    "name": "ipython",
    "version": 3
   },
   "file_extension": ".py",
   "mimetype": "text/x-python",
   "name": "python",
   "nbconvert_exporter": "python",
   "pygments_lexer": "ipython3",
   "version": "3.11.5"
  }
 },
 "nbformat": 4,
 "nbformat_minor": 2
}
