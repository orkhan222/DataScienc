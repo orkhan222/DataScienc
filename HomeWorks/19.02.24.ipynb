{
 "cells": [
  {
   "cell_type": "code",
   "execution_count": 7,
   "metadata": {},
   "outputs": [],
   "source": [
    "# import\n",
    "import pandas as pd"
   ]
  },
  {
   "cell_type": "code",
   "execution_count": 8,
   "metadata": {},
   "outputs": [],
   "source": [
    "df = pd.read_csv(r'../Datasets/carins.csv')"
   ]
  },
  {
   "cell_type": "code",
   "execution_count": 9,
   "metadata": {},
   "outputs": [
    {
     "name": "stdout",
     "output_type": "stream",
     "text": [
      "      policy_id  policy_tenure  age_of_car  age_of_policyholder area_cluster  \\\n",
      "0       ID54074       0.002735        0.06             0.625000          C14   \n",
      "1       ID03542       0.002739        0.07             0.336538           C2   \n",
      "2       ID18973       0.002740        0.05             0.461538           C8   \n",
      "3       ID17910       0.002748        0.08             0.336538          C10   \n",
      "4       ID39857       0.002750        0.00             0.355769           C7   \n",
      "...         ...            ...         ...                  ...          ...   \n",
      "58587   ID26173       1.370463        0.00             0.596154           C2   \n",
      "58588   ID48395       1.375988        0.13             0.480769          C10   \n",
      "58589   ID21105       1.376478        0.00             0.538462           C5   \n",
      "58590   ID52314       1.386520        0.00             0.307692          C21   \n",
      "58591   ID56847       1.396641        0.06             0.519231           C5   \n",
      "\n",
      "       population_density  make segment model fuel_type  ...  \\\n",
      "0                    7788     3      C2    M4    Diesel  ...   \n",
      "1                   27003     1      B2    M6    Petrol  ...   \n",
      "2                    8794     4      B2    M5    Diesel  ...   \n",
      "3                   73430     1      B2    M6    Petrol  ...   \n",
      "4                    6112     1       A    M1       CNG  ...   \n",
      "...                   ...   ...     ...   ...       ...  ...   \n",
      "58587               27003     2       A    M3    Petrol  ...   \n",
      "58588               73430     1      B1    M8       CNG  ...   \n",
      "58589               34738     1      B2    M6    Petrol  ...   \n",
      "58590                3264     1      B2    M6    Petrol  ...   \n",
      "58591               34738     2       A    M3    Petrol  ...   \n",
      "\n",
      "      is_driver_seat_height_adjustable is_day_night_rear_view_mirror is_ecw  \\\n",
      "0                                  Yes                            No    Yes   \n",
      "1                                  Yes                           Yes    Yes   \n",
      "2                                   No                            No    Yes   \n",
      "3                                  Yes                           Yes    Yes   \n",
      "4                                   No                            No     No   \n",
      "...                                ...                           ...    ...   \n",
      "58587                               No                           Yes    Yes   \n",
      "58588                               No                            No    Yes   \n",
      "58589                              Yes                           Yes    Yes   \n",
      "58590                              Yes                           Yes    Yes   \n",
      "58591                               No                           Yes    Yes   \n",
      "\n",
      "       is_speed_alert ncap_rating is_claim gross_weight_log gross_weight_sqrt  \\\n",
      "0                 Yes           3        0         7.450080         41.472883   \n",
      "1                 Yes           2        0         7.196687         36.537652   \n",
      "2                 Yes           5        0         7.306531         38.600518   \n",
      "3                 Yes           2        0         7.196687         36.537652   \n",
      "4                 Yes           0        0         7.077498         34.423829   \n",
      "...               ...         ...      ...              ...               ...   \n",
      "58587             Yes           2        0         7.051856         33.985291   \n",
      "58588             Yes           2        0         7.200425         36.606010   \n",
      "58589             Yes           2        0         7.196687         36.537652   \n",
      "58590             Yes           2        0         7.196687         36.537652   \n",
      "58591             Yes           2        0         7.051856         33.985291   \n",
      "\n",
      "      age_of_car_log age_of_car_sqrt  \n",
      "0          -2.813411        0.244949  \n",
      "1          -2.659260        0.264575  \n",
      "2          -2.995732        0.223607  \n",
      "3          -2.525729        0.282843  \n",
      "4               -inf        0.000000  \n",
      "...              ...             ...  \n",
      "58587           -inf        0.000000  \n",
      "58588      -2.040221        0.360555  \n",
      "58589           -inf        0.000000  \n",
      "58590           -inf        0.000000  \n",
      "58591      -2.813411        0.244949  \n",
      "\n",
      "[58592 rows x 48 columns]\n"
     ]
    },
    {
     "name": "stderr",
     "output_type": "stream",
     "text": [
      "c:\\Users\\user\\anaconda3\\Lib\\site-packages\\pandas\\core\\arraylike.py:396: RuntimeWarning: divide by zero encountered in log\n",
      "  result = getattr(ufunc, method)(*inputs, **kwargs)\n"
     ]
    }
   ],
   "source": [
    "import numpy as np\n",
    "import pandas as pd\n",
    "\n",
    "def enrichment( df, col, type ):\n",
    "    if type == 'log':\n",
    "        df[ col + '_log' ] = np.log(df[col])\n",
    "    if type == 'sqrt':\n",
    "        df[ col + '_sqrt' ] = np.sqrt(df[col])\n",
    "\n",
    "    return df\n",
    "\n",
    "df = enrichment(df, 'gross_weight', 'log')\n",
    "\n",
    "def auto_feature_generation(df, col_list):\n",
    "    for col in col_list:\n",
    "        if (df[col].dtype, np.number):\n",
    "            df = enrichment(df, col, 'log')\n",
    "            df = enrichment(df, col, 'sqrt')\n",
    "        else:\n",
    "            print(f\"Ignoring non-numeric column '{col}'\")\n",
    "\n",
    "    return df\n",
    "\n",
    "columns_to_enrich = ['gross_weight', 'age_of_car']\n",
    "\n",
    "df = auto_feature_generation(df, columns_to_enrich)\n",
    "\n",
    "print(df)"
   ]
  }
 ],
 "metadata": {
  "kernelspec": {
   "display_name": "base",
   "language": "python",
   "name": "python3"
  },
  "language_info": {
   "codemirror_mode": {
    "name": "ipython",
    "version": 3
   },
   "file_extension": ".py",
   "mimetype": "text/x-python",
   "name": "python",
   "nbconvert_exporter": "python",
   "pygments_lexer": "ipython3",
   "version": "3.11.5"
  }
 },
 "nbformat": 4,
 "nbformat_minor": 2
}
