{
 "cells": [
  {
   "cell_type": "code",
   "execution_count": 284,
   "metadata": {},
   "outputs": [],
   "source": [
    "# import\n",
    "import pandas as pd\n",
    "import matplotlib.pyplot as plt\n",
    "from sklearn.preprocessing import LabelEncoder\n"
   ]
  },
  {
   "cell_type": "code",
   "execution_count": 258,
   "metadata": {},
   "outputs": [
    {
     "data": {
      "text/html": [
       "<div>\n",
       "<style scoped>\n",
       "    .dataframe tbody tr th:only-of-type {\n",
       "        vertical-align: middle;\n",
       "    }\n",
       "\n",
       "    .dataframe tbody tr th {\n",
       "        vertical-align: top;\n",
       "    }\n",
       "\n",
       "    .dataframe thead th {\n",
       "        text-align: right;\n",
       "    }\n",
       "</style>\n",
       "<table border=\"1\" class=\"dataframe\">\n",
       "  <thead>\n",
       "    <tr style=\"text-align: right;\">\n",
       "      <th></th>\n",
       "      <th>City</th>\n",
       "      <th>Brand</th>\n",
       "      <th>Model</th>\n",
       "      <th>Year</th>\n",
       "      <th>Body Type</th>\n",
       "      <th>Color</th>\n",
       "      <th>Engine Details</th>\n",
       "      <th>Mileage</th>\n",
       "      <th>Transmission</th>\n",
       "      <th>Drive Type</th>\n",
       "      <th>İs_New?</th>\n",
       "      <th>Seat Count</th>\n",
       "      <th>Owner Count</th>\n",
       "      <th>Condition</th>\n",
       "      <th>Origin</th>\n",
       "      <th>Price</th>\n",
       "      <th>Product_link</th>\n",
       "      <th>Saler_name</th>\n",
       "    </tr>\n",
       "  </thead>\n",
       "  <tbody>\n",
       "    <tr>\n",
       "      <th>0</th>\n",
       "      <td>Bakı</td>\n",
       "      <td>Kia</td>\n",
       "      <td>Cerato</td>\n",
       "      <td>2019</td>\n",
       "      <td>Sedan</td>\n",
       "      <td>Boz</td>\n",
       "      <td>2.0 L/150 a.g./Benzin</td>\n",
       "      <td>25 000 km</td>\n",
       "      <td>Avtomat</td>\n",
       "      <td>Ön</td>\n",
       "      <td>Xeyr</td>\n",
       "      <td>5</td>\n",
       "      <td>değer yok</td>\n",
       "      <td>Vuruğu yoxdur, rənglənməyib</td>\n",
       "      <td>Amerika</td>\n",
       "      <td>30 500 AZN</td>\n",
       "      <td>https://turbo.az/autos/7577541-kia-cerato</td>\n",
       "      <td>Avtosalon \"Eurocar\"</td>\n",
       "    </tr>\n",
       "    <tr>\n",
       "      <th>1</th>\n",
       "      <td>Bakı</td>\n",
       "      <td>Kia</td>\n",
       "      <td>Sorento</td>\n",
       "      <td>2015</td>\n",
       "      <td>Offroader / SUV</td>\n",
       "      <td>Qara</td>\n",
       "      <td>2.0 L/184 a.g./Dizel</td>\n",
       "      <td>44 000 km</td>\n",
       "      <td>Avtomat</td>\n",
       "      <td>Tam</td>\n",
       "      <td>Xeyr</td>\n",
       "      <td>değer yok</td>\n",
       "      <td>1</td>\n",
       "      <td>Vuruğu yoxdur, rənglənməyib</td>\n",
       "      <td>Koreya</td>\n",
       "      <td>46 500 AZN</td>\n",
       "      <td>https://turbo.az/autos/7509258-kia-sorento</td>\n",
       "      <td>Avtosalon \"AEN Cars\"</td>\n",
       "    </tr>\n",
       "  </tbody>\n",
       "</table>\n",
       "</div>"
      ],
      "text/plain": [
       "   City Brand    Model  Year        Body Type Color         Engine Details  \\\n",
       "0  Bakı   Kia   Cerato  2019            Sedan   Boz  2.0 L/150 a.g./Benzin   \n",
       "1  Bakı   Kia  Sorento  2015  Offroader / SUV  Qara   2.0 L/184 a.g./Dizel   \n",
       "\n",
       "     Mileage Transmission Drive Type İs_New? Seat Count Owner Count  \\\n",
       "0  25 000 km      Avtomat         Ön    Xeyr          5   değer yok   \n",
       "1  44 000 km      Avtomat        Tam    Xeyr  değer yok           1   \n",
       "\n",
       "                     Condition   Origin       Price  \\\n",
       "0  Vuruğu yoxdur, rənglənməyib  Amerika  30 500 AZN   \n",
       "1  Vuruğu yoxdur, rənglənməyib   Koreya  46 500 AZN   \n",
       "\n",
       "                                 Product_link            Saler_name  \n",
       "0   https://turbo.az/autos/7577541-kia-cerato   Avtosalon \"Eurocar\"  \n",
       "1  https://turbo.az/autos/7509258-kia-sorento  Avtosalon \"AEN Cars\"  "
      ]
     },
     "execution_count": 258,
     "metadata": {},
     "output_type": "execute_result"
    }
   ],
   "source": [
    "df = pd.read_excel(r'../Datasets/Turbo_az_Kia_all_vehicles.xlsx')\n",
    "df.head(2)"
   ]
  },
  {
   "cell_type": "code",
   "execution_count": 259,
   "metadata": {},
   "outputs": [
    {
     "name": "stdout",
     "output_type": "stream",
     "text": [
      "          City Brand    Model  Year        Body Type Color  \\\n",
      "0         Bakı   Kia   Cerato  2019            Sedan   Boz   \n",
      "1         Bakı   Kia  Sorento  2015  Offroader / SUV  Qara   \n",
      "2         Bakı   Kia   Cerato  2022            Sedan    Ağ   \n",
      "3     Sumqayıt   Kia      Rio  2023          Hetçbek    Ağ   \n",
      "4         Bakı   Kia   Cerato  2020            Sedan   Göy   \n",
      "...        ...   ...      ...   ...              ...   ...   \n",
      "3401      Bakı   Kia     Ceed  2007          Hetçbek  Qara   \n",
      "3402      Bakı   Kia   Optima  2016            Sedan    Ağ   \n",
      "3403      Bakı   Kia  Sorento  2015  Offroader / SUV    Ağ   \n",
      "3404      Bakı   Kia   Optima  2016            Sedan    Ağ   \n",
      "3405      Bakı   Kia     Ceed  2010        Universal  Mavi   \n",
      "\n",
      "             Engine Details     Mileage Transmission Drive Type İs_New?  \\\n",
      "0     2.0 L/150 a.g./Benzin   25 000 km      Avtomat         Ön    Xeyr   \n",
      "1      2.0 L/184 a.g./Dizel   44 000 km      Avtomat        Tam    Xeyr   \n",
      "2     1.6 L/130 a.g./Benzin        0 km      Avtomat         Ön    Bəli   \n",
      "3     1.4 L/107 a.g./Benzin        0 km      Avtomat         Ön    Bəli   \n",
      "4     1.6 L/130 a.g./Benzin   54 000 km      Avtomat         Ön    Xeyr   \n",
      "...                     ...         ...          ...        ...     ...   \n",
      "3401   1.6 L/115 a.g./Dizel  224 400 km     Mexaniki         Ön    Xeyr   \n",
      "3402   1.7 L/141 a.g./Dizel  118 000 km      Avtomat       Arxa    Xeyr   \n",
      "3403   2.0 L/184 a.g./Dizel  122 650 km      Avtomat        Tam    Xeyr   \n",
      "3404  2.0 L/274 a.g./Benzin  166 000 km      Avtomat         Ön    Xeyr   \n",
      "3405   1.4 L/90 a.g./Benzin  268 000 km     Mexaniki         Ön    Xeyr   \n",
      "\n",
      "     Seat Count Owner Count                    Condition       Origin  \\\n",
      "0             5   değer yok  Vuruğu yoxdur, rənglənməyib      Amerika   \n",
      "1     değer yok           1  Vuruğu yoxdur, rənglənməyib       Koreya   \n",
      "2             5   değer yok  Vuruğu yoxdur, rənglənməyib       Avropa   \n",
      "3     değer yok   değer yok  Vuruğu yoxdur, rənglənməyib    değer yok   \n",
      "4             5           1     Vuruğu yoxdur, rənglənib  Rəsmi diler   \n",
      "...         ...         ...                          ...          ...   \n",
      "3401          5           2  Vuruğu yoxdur, rənglənməyib       Avropa   \n",
      "3402          5           1  Vuruğu yoxdur, rənglənməyib       Koreya   \n",
      "3403          5           2  Vuruğu yoxdur, rənglənməyib       Koreya   \n",
      "3404          4           1     Vuruğu yoxdur, rənglənib    değer yok   \n",
      "3405          4   değer yok  Vuruğu yoxdur, rənglənməyib       Avropa   \n",
      "\n",
      "        Price                                Product_link  \\\n",
      "0     30500.0   https://turbo.az/autos/7577541-kia-cerato   \n",
      "1     46500.0  https://turbo.az/autos/7509258-kia-sorento   \n",
      "2     37900.0   https://turbo.az/autos/7593907-kia-cerato   \n",
      "3     35300.0      https://turbo.az/autos/7541951-kia-rio   \n",
      "4     36500.0   https://turbo.az/autos/7573063-kia-cerato   \n",
      "...       ...                                         ...   \n",
      "3401  13400.0     https://turbo.az/autos/7543010-kia-ceed   \n",
      "3402  31800.0   https://turbo.az/autos/7542958-kia-optima   \n",
      "3403  41500.0  https://turbo.az/autos/7542925-kia-sorento   \n",
      "3404  31850.0   https://turbo.az/autos/7542896-kia-optima   \n",
      "3405  11500.0     https://turbo.az/autos/7542870-kia-ceed   \n",
      "\n",
      "                 Saler_name  \n",
      "0       Avtosalon \"Eurocar\"  \n",
      "1      Avtosalon \"AEN Cars\"  \n",
      "2     Kia Motors Azerbaijan  \n",
      "3       Kia Motors Sumqayıt  \n",
      "4                    Xanlar  \n",
      "...                     ...  \n",
      "3401                  Şahin  \n",
      "3402                   Emin  \n",
      "3403                 Dilqem  \n",
      "3404                  Orxan  \n",
      "3405                  Nicat  \n",
      "\n",
      "[3406 rows x 18 columns]\n"
     ]
    }
   ],
   "source": [
    "df['Price'] = (df['Price'].str.replace(' AZN', '').str.replace(' USD', '').str.replace(' ', '').astype(float, errors='ignore'))\n",
    "print(df)\n"
   ]
  },
  {
   "cell_type": "code",
   "execution_count": 260,
   "metadata": {},
   "outputs": [
    {
     "name": "stdout",
     "output_type": "stream",
     "text": [
      "          City Brand    Model  Year        Body Type Color  \\\n",
      "0         Bakı   Kia   Cerato  2019            Sedan   Boz   \n",
      "1         Bakı   Kia  Sorento  2015  Offroader / SUV  Qara   \n",
      "2         Bakı   Kia   Cerato  2022            Sedan    Ağ   \n",
      "3     Sumqayıt   Kia      Rio  2023          Hetçbek    Ağ   \n",
      "4         Bakı   Kia   Cerato  2020            Sedan   Göy   \n",
      "...        ...   ...      ...   ...              ...   ...   \n",
      "3401      Bakı   Kia     Ceed  2007          Hetçbek  Qara   \n",
      "3402      Bakı   Kia   Optima  2016            Sedan    Ağ   \n",
      "3403      Bakı   Kia  Sorento  2015  Offroader / SUV    Ağ   \n",
      "3404      Bakı   Kia   Optima  2016            Sedan    Ağ   \n",
      "3405      Bakı   Kia     Ceed  2010        Universal  Mavi   \n",
      "\n",
      "             Engine Details   Mileage Transmission Drive Type İs_New?  \\\n",
      "0     2.0 L/150 a.g./Benzin   25000.0      Avtomat         Ön    Xeyr   \n",
      "1      2.0 L/184 a.g./Dizel   44000.0      Avtomat        Tam    Xeyr   \n",
      "2     1.6 L/130 a.g./Benzin       0.0      Avtomat         Ön    Bəli   \n",
      "3     1.4 L/107 a.g./Benzin       0.0      Avtomat         Ön    Bəli   \n",
      "4     1.6 L/130 a.g./Benzin   54000.0      Avtomat         Ön    Xeyr   \n",
      "...                     ...       ...          ...        ...     ...   \n",
      "3401   1.6 L/115 a.g./Dizel  224400.0     Mexaniki         Ön    Xeyr   \n",
      "3402   1.7 L/141 a.g./Dizel  118000.0      Avtomat       Arxa    Xeyr   \n",
      "3403   2.0 L/184 a.g./Dizel  122650.0      Avtomat        Tam    Xeyr   \n",
      "3404  2.0 L/274 a.g./Benzin  166000.0      Avtomat         Ön    Xeyr   \n",
      "3405   1.4 L/90 a.g./Benzin  268000.0     Mexaniki         Ön    Xeyr   \n",
      "\n",
      "     Seat Count Owner Count                    Condition       Origin  \\\n",
      "0             5   değer yok  Vuruğu yoxdur, rənglənməyib      Amerika   \n",
      "1     değer yok           1  Vuruğu yoxdur, rənglənməyib       Koreya   \n",
      "2             5   değer yok  Vuruğu yoxdur, rənglənməyib       Avropa   \n",
      "3     değer yok   değer yok  Vuruğu yoxdur, rənglənməyib    değer yok   \n",
      "4             5           1     Vuruğu yoxdur, rənglənib  Rəsmi diler   \n",
      "...         ...         ...                          ...          ...   \n",
      "3401          5           2  Vuruğu yoxdur, rənglənməyib       Avropa   \n",
      "3402          5           1  Vuruğu yoxdur, rənglənməyib       Koreya   \n",
      "3403          5           2  Vuruğu yoxdur, rənglənməyib       Koreya   \n",
      "3404          4           1     Vuruğu yoxdur, rənglənib    değer yok   \n",
      "3405          4   değer yok  Vuruğu yoxdur, rənglənməyib       Avropa   \n",
      "\n",
      "        Price                                Product_link  \\\n",
      "0     30500.0   https://turbo.az/autos/7577541-kia-cerato   \n",
      "1     46500.0  https://turbo.az/autos/7509258-kia-sorento   \n",
      "2     37900.0   https://turbo.az/autos/7593907-kia-cerato   \n",
      "3     35300.0      https://turbo.az/autos/7541951-kia-rio   \n",
      "4     36500.0   https://turbo.az/autos/7573063-kia-cerato   \n",
      "...       ...                                         ...   \n",
      "3401  13400.0     https://turbo.az/autos/7543010-kia-ceed   \n",
      "3402  31800.0   https://turbo.az/autos/7542958-kia-optima   \n",
      "3403  41500.0  https://turbo.az/autos/7542925-kia-sorento   \n",
      "3404  31850.0   https://turbo.az/autos/7542896-kia-optima   \n",
      "3405  11500.0     https://turbo.az/autos/7542870-kia-ceed   \n",
      "\n",
      "                 Saler_name  \n",
      "0       Avtosalon \"Eurocar\"  \n",
      "1      Avtosalon \"AEN Cars\"  \n",
      "2     Kia Motors Azerbaijan  \n",
      "3       Kia Motors Sumqayıt  \n",
      "4                    Xanlar  \n",
      "...                     ...  \n",
      "3401                  Şahin  \n",
      "3402                   Emin  \n",
      "3403                 Dilqem  \n",
      "3404                  Orxan  \n",
      "3405                  Nicat  \n",
      "\n",
      "[3406 rows x 18 columns]\n"
     ]
    }
   ],
   "source": [
    "df['Mileage'] = (df['Mileage'].str.replace(' km', '').str.replace(' ', '').astype(float, errors='ignore'))\n",
    "print(df)"
   ]
  },
  {
   "cell_type": "code",
   "execution_count": 261,
   "metadata": {},
   "outputs": [
    {
     "name": "stdout",
     "output_type": "stream",
     "text": [
      "{'Sorento': 1257, 'Optima': 486, 'Rio': 359, 'Sportage': 354, 'Ceed': 234, 'Cerato': 212, 'K7': 56, 'K5': 56, 'Soul': 49, 'Carnival': 43, 'Stonic': 35, 'Cadenza': 34, 'Carens': 33, 'Pride': 29, 'K3': 28, 'Picanto': 24, 'Stinger': 22, 'Cerato Koup': 15, 'K2700': 10, 'ProCeed': 9, 'Rio X-Line': 8, 'Morning': 7, 'Seltos': 6, 'Bongo': 5, 'Magentis': 5, 'Avella': 5, 'Niro': 4, 'Sephia': 3, 'Besta': 3, 'Quoris': 3, 'Mohave': 3, 'Shuma': 2, 'Pregio': 2, 'Opirus': 1, 'Ray': 1, 'Ceed SW': 1, 'K8': 1, 'Clarus': 1}\n"
     ]
    }
   ],
   "source": [
    "model_counts = df['Model'].value_counts().to_dict()\n",
    "print(model_counts)"
   ]
  },
  {
   "cell_type": "code",
   "execution_count": 262,
   "metadata": {},
   "outputs": [
    {
     "name": "stdout",
     "output_type": "stream",
     "text": [
      "{'Vuruğu yoxdur, rənglənməyib': 3185, 'Vuruğu yoxdur, rənglənib': 173, 'Vuruğu var, rənglənməyib': 27, 'Vuruğu var, rənglənib': 18, 'değer yok': 3}\n"
     ]
    }
   ],
   "source": [
    "model_condition = df['Condition'].value_counts().to_dict()\n",
    "print(model_condition)"
   ]
  },
  {
   "cell_type": "code",
   "execution_count": 263,
   "metadata": {},
   "outputs": [
    {
     "name": "stdout",
     "output_type": "stream",
     "text": [
      "{'Xeyr': 3220, 'Bəli': 186}\n"
     ]
    }
   ],
   "source": [
    "model_new = df['İs_New?'].value_counts().to_dict()\n",
    "print(model_new)"
   ]
  },
  {
   "cell_type": "code",
   "execution_count": 264,
   "metadata": {},
   "outputs": [
    {
     "name": "stdout",
     "output_type": "stream",
     "text": [
      "{'5': 1664, 'değer yok': 797, '7': 713, '4': 185, '8+': 22, '6': 18, '3': 5, '2': 2}\n"
     ]
    }
   ],
   "source": [
    "model_seat = df['Seat Count'].value_counts().to_dict()\n",
    "print(model_seat)\n"
   ]
  },
  {
   "cell_type": "code",
   "execution_count": 265,
   "metadata": {},
   "outputs": [
    {
     "name": "stdout",
     "output_type": "stream",
     "text": [
      "{0.0: 186, 140000.0: 39, 175000.0: 37, 145000.0: 37, 180000.0: 33, 220000.0: 28, 200000.0: 27, 230000.0: 27, 198000.0: 26, 250000.0: 24, 65000.0: 24, 161000.0: 22, 150000.0: 22, 110000.0: 22, 187000.0: 21, 170000.0: 21, 164000.0: 20, 172000.0: 19, 227000.0: 18, 152000.0: 18, 260000.0: 18, 209000.0: 17, 226000.0: 17, 112000.0: 17, 205000.0: 17, 65852.0: 17, 103000.0: 16, 43004.0: 16, 33346.0: 16, 185000.0: 16, 195000.0: 16, 137000.0: 15, 148500.0: 15, 168000.0: 15, 163000.0: 15, 44000.0: 15, 102000.0: 15, 146000.0: 15, 139000.0: 15, 96000.0: 14, 121000.0: 14, 160000.0: 14, 106000.0: 14, 194000.0: 13, 171500.0: 13, 134111.0: 13, 290000.0: 13, 35000.0: 13, 188000.0: 13, 87000.0: 13, 167000.0: 13, 51000.0: 13, 191525.0: 13, 191000.0: 13, 142000.0: 13, 92000.0: 13, 141000.0: 13, 300000.0: 12, 173000.0: 12, 178000.0: 12, 177400.0: 12, 144000.0: 12, 212160.0: 12, 25000.0: 12, 3200.0: 12, 127000.0: 12, 196000.0: 11, 53100.0: 11, 99000.0: 11, 240000.0: 11, 158000.0: 11, 162000.0: 11, 165000.0: 11, 203397.0: 11, 195428.0: 11, 110058.0: 11, 100000.0: 11, 94000.0: 11, 193000.0: 10, 109435.0: 10, 177000.0: 10, 31000.0: 10, 21558.0: 10, 62704.0: 10, 176000.0: 10, 98563.0: 10, 149000.0: 10, 169826.0: 10, 120000.0: 10, 136000.0: 10, 75415.0: 10, 210000.0: 10, 189000.0: 9, 182800.0: 9, 179000.0: 9, 111045.0: 9, 157000.0: 9, 285000.0: 9, 207500.0: 9, 130000.0: 9, 201000.0: 9, 199000.0: 9, 126000.0: 9, 317000.0: 9, 310603.0: 9, 190000.0: 9, 125000.0: 8, 76581.0: 8, 219600.0: 8, 225000.0: 8, 219000.0: 8, 128000.0: 8, 156400.0: 8, 282000.0: 8, 148000.0: 8, 113000.0: 8, 159000.0: 8, 204000.0: 8, 129907.0: 8, 135829.0: 8, 192000.0: 8, 16000.0: 8, 182000.0: 8, 67000.0: 8, 226866.0: 8, 54000.0: 7, 116000.0: 7, 205996.0: 7, 90200.0: 7, 186000.0: 7, 32800.0: 7, 86245.0: 7, 98000.0: 7, 191200.0: 7, 202052.0: 7, 122950.0: 7, 154497.0: 7, 28000.0: 7, 28612.0: 7, 139123.0: 7, 275000.0: 7, 233000.0: 7, 121800.0: 7, 98500.0: 7, 115000.0: 7, 147000.0: 6, 16500.0: 6, 73530.0: 6, 270000.0: 6, 105212.0: 6, 346214.0: 6, 123000.0: 6, 184000.0: 6, 19000.0: 6, 218000.0: 6, 155000.0: 6, 55000.0: 6, 153000.0: 6, 141900.0: 6, 111000.0: 6, 182400.0: 6, 208000.0: 6, 283000.0: 6, 225308.0: 6, 182020.0: 6, 169000.0: 6, 88000.0: 6, 203000.0: 6, 81000.0: 6, 151000.0: 6, 67337.0: 6, 166000.0: 6, 108000.0: 6, 244000.0: 6, 197000.0: 6, 156000.0: 5, 58000.0: 5, 221000.0: 5, 83000.0: 5, 72000.0: 5, 154000.0: 5, 280000.0: 5, 105000.0: 5, 470.0: 5, 21000.0: 5, 251000.0: 5, 330000.0: 5, 117000.0: 5, 93000.0: 5, 118000.0: 5, 216000.0: 5, 48000.0: 5, 143770.0: 5, 214000.0: 5, 207000.0: 5, 109000.0: 5, 171000.0: 5, 282063.0: 5, 103084.0: 5, 202000.0: 4, 183000.0: 4, 86000.0: 4, 174000.0: 4, 310000.0: 4, 114000.0: 4, 202269.0: 4, 181000.0: 4, 243000.0: 4, 224000.0: 4, 230136.0: 4, 320000.0: 4, 107000.0: 4, 215000.0: 4, 133000.0: 4, 131000.0: 4, 253000.0: 4, 89000.0: 4, 212000.0: 4, 232000.0: 4, 78000.0: 4, 268000.0: 4, 71000.0: 4, 267000.0: 4, 119000.0: 4, 82000.0: 4, 172200.0: 3, 80000.0: 3, 52000.0: 3, 254000.0: 3, 76000.0: 3, 298000.0: 3, 235000.0: 3, 247000.0: 3, 43000.0: 3, 270370.0: 3, 139500.0: 3, 95000.0: 3, 64000.0: 3, 249000.0: 3, 360000.0: 3, 318000.0: 3, 296000.0: 3, 256000.0: 3, 135000.0: 3, 75000.0: 3, 85000.0: 3, 124000.0: 3, 236000.0: 3, 211000.0: 3, 33000.0: 3, 241402.0: 3, 91000.0: 3, 362000.0: 3, 161500.0: 3, 228000.0: 3, 77000.0: 3, 404158.0: 3, 224600.0: 3, 264000.0: 3, 223000.0: 3, 271000.0: 3, 147500.0: 3, 42000.0: 3, 245000.0: 3, 350000.0: 2, 132000.0: 2, 11000.0: 2, 184700.0: 2, 101000.0: 2, 226500.0: 2, 157716.0: 2, 151200.0: 2, 50000.0: 2, 129000.0: 2, 36000.0: 2, 237000.0: 2, 57700.0: 2, 60000.0: 2, 266000.0: 2, 279000.0: 2, 22000.0: 2, 252000.0: 2, 224400.0: 2, 222000.0: 2, 303000.0: 2, 27000.0: 2, 9000.0: 2, 288000.0: 2, 340000.0: 2, 178650.0: 2, 66000.0: 2, 86500.0: 2, 152300.0: 2, 97000.0: 2, 38500.0: 2, 20000.0: 2, 206000.0: 2, 170021.0: 2, 255000.0: 2, 324000.0: 2, 329000.0: 2, 258000.0: 2, 217000.0: 2, 234000.0: 2, 104607.0: 2, 2900.0: 2, 89200.0: 2, 246000.0: 2, 345000.0: 2, 158500.0: 2, 162700.0: 2, 165762.0: 2, 242000.0: 2, 213000.0: 2, 265000.0: 2, 213500.0: 2, 59000.0: 2, 161200.0: 2, 10000.0: 2, 358000.0: 2, 90000.0: 2, 144841.0: 2, 175300.0: 2, 63000.0: 2, 273000.0: 2, 116300.0: 2, 177028.0: 2, 12000.0: 2, 143000.0: 2, 269000.0: 2, 400000.0: 2, 134000.0: 2, 234500.0: 2, 229000.0: 2, 262000.0: 2, 212500.0: 1, 109641.0: 1, 289600.0: 1, 434000.0: 1, 263900.0: 1, 323528.0: 1, 301000.0: 1, 100700.0: 1, 176663.0: 1, 145320.0: 1, 143039.0: 1, 175191.0: 1, 281163.0: 1, 222912.0: 1, 167409.0: 1, 185877.0: 1, 140093.0: 1, 171800.0: 1, 170031.0: 1, 195206.0: 1, 147140.0: 1, 18950.0: 1, 135185.0: 1, 299876.0: 1, 170569.0: 1, 22372.0: 1, 103100.0: 1, 270115.0: 1, 123521.0: 1, 16197.0: 1, 122063.0: 1, 232325.0: 1, 154100.0: 1, 133600.0: 1, 294940.0: 1, 86905.0: 1, 480000.0: 1, 196138.0: 1, 191353.0: 1, 203104.0: 1, 261000.0: 1, 232479.0: 1, 111523.0: 1, 166850.0: 1, 238000.0: 1, 165118.0: 1, 148060.0: 1, 195552.0: 1, 135850.0: 1, 77230.0: 1, 76663.0: 1, 335000.0: 1, 196474.0: 1, 179500.0: 1, 37151.0: 1, 145959.0: 1, 346000.0: 1, 98256.0: 1, 194577.0: 1, 281000.0: 1, 94880.0: 1, 170990.0: 1, 195150.0: 1, 183153.0: 1, 21170.0: 1, 241000.0: 1, 321950.0: 1, 196700.0: 1, 331000.0: 1, 312000.0: 1, 107730.0: 1, 155037.0: 1, 24682.0: 1, 185187.0: 1, 192540.0: 1, 17800.0: 1, 141950.0: 1, 289000.0: 1, 103210.0: 1, 123919.0: 1, 185263.0: 1, 242400.0: 1, 212700.0: 1, 185566.0: 1, 185325.0: 1, 221032.0: 1, 172232.0: 1, 253422.0: 1, 332000.0: 1, 165984.0: 1, 196254.0: 1, 197700.0: 1, 284985.0: 1, 233149.0: 1, 232250.0: 1, 784560.0: 1, 2000.0: 1, 203118.0: 1, 356200.0: 1, 200177.0: 1, 94003.0: 1, 169500.0: 1, 194731.0: 1, 18400.0: 1, 57500.0: 1, 70516.0: 1, 144900.0: 1, 311000.0: 1, 300400.0: 1, 200111.0: 1, 245600.0: 1, 73000.0: 1, 148827.0: 1, 67900.0: 1, 255066.0: 1, 158520.0: 1, 79525.0: 1, 209210.0: 1, 77835.0: 1, 223580.0: 1, 169368.0: 1, 122000.0: 1, 337962.0: 1, 61000.0: 1, 211354.0: 1, 22115.0: 1, 76908.0: 1, 153300.0: 1, 211190.0: 1, 148963.0: 1, 162673.0: 1, 19500.0: 1, 166669.0: 1, 24800.0: 1, 54718.0: 1, 380000.0: 1, 74500.0: 1, 41200.0: 1, 294632.0: 1, 63500.0: 1, 207855.0: 1, 8230.0: 1, 193120.0: 1, 17700.0: 1, 4700.0: 1, 130500.0: 1, 206500.0: 1, 165850.0: 1, 242600.0: 1, 132500.0: 1, 420000.0: 1, 382000.0: 1, 165496.0: 1, 77250.0: 1, 443000.0: 1, 79800.0: 1, 161460.0: 1, 193121.0: 1, 156200.0: 1, 171880.0: 1, 149900.0: 1, 137200.0: 1, 174300.0: 1, 82789.0: 1, 162544.0: 1, 308000.0: 1, 99779.0: 1, 225117.0: 1, 17000.0: 1, 186800.0: 1, 62000.0: 1, 450000.0: 1, 212817.0: 1, 184523.0: 1, 218810.0: 1, 147693.0: 1, 209709.0: 1, 253827.0: 1, 135400.0: 1, 181200.0: 1, 163230.0: 1, 113500.0: 1, 215355.0: 1, 196900.0: 1, 202911.0: 1, 378738.0: 1, 185958.0: 1, 212780.0: 1, 317370.0: 1, 250300.0: 1, 203088.0: 1, 5200.0: 1, 63700.0: 1, 252500.0: 1, 124586.0: 1, 500033.0: 1, 9200.0: 1, 138500.0: 1, 207350.0: 1, 156130.0: 1, 191097.0: 1, 113053.0: 1, 138404.0: 1, 168981.0: 1, 199400.0: 1, 386000.0: 1, 265052.0: 1, 94500.0: 1, 300200.0: 1, 196256.0: 1, 252426.0: 1, 162294.0: 1, 263365.0: 1, 297450.0: 1, 88514.0: 1, 321000.0: 1, 13500.0: 1, 62487.0: 1, 246452.0: 1, 200431.0: 1, 45500.0: 1, 226123.0: 1, 115800.0: 1, 186544.0: 1, 165252.0: 1, 171698.0: 1, 231000.0: 1, 177956.0: 1, 222558.0: 1, 356000.0: 1, 124275.0: 1, 30578.0: 1, 465500.0: 1, 355000.0: 1, 189921.0: 1, 385231.0: 1, 141800.0: 1, 150474.0: 1, 192687.0: 1, 110807.0: 1, 206021.0: 1, 85112.0: 1, 187756.0: 1, 370000.0: 1, 224027.0: 1, 224568.0: 1, 95500.0: 1, 307000.0: 1, 83436.0: 1, 195200.0: 1, 136200.0: 1, 154600.0: 1, 285087.0: 1, 201168.0: 1, 246386.0: 1, 236547.0: 1, 318685.0: 1, 173014.0: 1, 457184.0: 1, 131145.0: 1, 185198.0: 1, 168882.0: 1, 217261.0: 1, 218082.0: 1, 40500.0: 1, 200236.0: 1, 78115.0: 1, 75500.0: 1, 510000.0: 1, 167088.0: 1, 247500.0: 1, 135500.0: 1, 297481.0: 1, 43300.0: 1, 18430.0: 1, 114700.0: 1, 232424.0: 1, 214500.0: 1, 267111.0: 1, 200500.0: 1, 69000.0: 1, 206228.0: 1, 71024.0: 1, 41000.0: 1, 217371.0: 1, 132530.0: 1, 51600.0: 1, 18000.0: 1, 275520.0: 1, 218222.0: 1, 229586.0: 1, 190440.0: 1, 198898.0: 1, 124500.0: 1, 104241.0: 1, 246230.0: 1, 118500.0: 1, 400200.0: 1, 127700.0: 1, 76400.0: 1, 221863.0: 1, 287000.0: 1, 99382.0: 1, 170620.0: 1, 196890.0: 1, 84325.0: 1, 57920.0: 1, 80141.0: 1, 274000.0: 1, 168500.0: 1, 202777.0: 1, 176341.0: 1, 83998.0: 1, 49000.0: 1, 113680.0: 1, 224123.0: 1, 151278.0: 1, 291872.0: 1, 45000.0: 1, 316000.0: 1, 262778.0: 1, 91717.0: 1, 182426.0: 1, 165115.0: 1, 154445.0: 1, 69586.0: 1, 142022.0: 1, 197555.0: 1, 285663.0: 1, 215381.0: 1, 245804.0: 1, 46500.0: 1, 141111.0: 1, 216800.0: 1, 83150.0: 1, 194140.0: 1, 30200.0: 1, 349900.0: 1, 157541.0: 1, 178300.0: 1, 186684.0: 1, 252525.0: 1, 232320.0: 1, 22233.0: 1, 264732.0: 1, 17703.0: 1, 221082.0: 1, 66500.0: 1, 153612.0: 1, 194500.0: 1, 175418.0: 1, 242123.0: 1, 209310.0: 1, 26000.0: 1, 101300.0: 1, 176900.0: 1, 230169.0: 1, 211337.0: 1, 175821.0: 1, 30900.0: 1, 199200.0: 1, 312021.0: 1, 108200.0: 1, 211300.0: 1, 221111.0: 1, 49200.0: 1, 124584.0: 1, 375788.0: 1, 180247.0: 1, 86337.0: 1, 38000.0: 1, 221231.0: 1, 153200.0: 1, 267887.0: 1, 178200.0: 1, 155621.0: 1, 179600.0: 1, 167933.0: 1, 141500.0: 1, 131200.0: 1, 71500.0: 1, 155530.0: 1, 37000.0: 1, 99500.0: 1, 191201.0: 1, 183546.0: 1, 131740.0: 1, 13000.0: 1, 19550.0: 1, 177600.0: 1, 185425.0: 1, 175938.0: 1, 125321.0: 1, 178021.0: 1, 56520.0: 1, 165264.0: 1, 227250.0: 1, 172414.0: 1, 198411.0: 1, 195500.0: 1, 289150.0: 1, 135100.0: 1, 44400.0: 1, 2500.0: 1, 167700.0: 1, 8800.0: 1, 46000.0: 1, 210824.0: 1, 197800.0: 1, 217902.0: 1, 252384.0: 1, 120828.0: 1, 225552.0: 1, 148600.0: 1, 226400.0: 1, 110771.0: 1, 159766.0: 1, 99713.0: 1, 113800.0: 1, 263253.0: 1, 156735.0: 1, 294000.0: 1, 167372.0: 1, 194600.0: 1, 224242.0: 1, 339000.0: 1, 202806.0: 1, 102408.0: 1, 278000.0: 1, 140300.0: 1, 139555.0: 1, 201345.0: 1, 280763.0: 1, 236841.0: 1, 266464.0: 1, 500.0: 1, 140815.0: 1, 90448.0: 1, 141125.0: 1, 276000.0: 1, 81500.0: 1, 2531.0: 1, 265542.0: 1, 79000.0: 1, 39500.0: 1, 196500.0: 1, 266138.0: 1, 107500.0: 1, 261207.0: 1, 124300.0: 1, 129303.0: 1, 248500.0: 1, 127500.0: 1, 99800.0: 1, 174700.0: 1, 146100.0: 1, 80467.0: 1, 35406.0: 1, 268500.0: 1, 168973.0: 1, 199500.0: 1, 100100.0: 1, 158165.0: 1, 177369.0: 1, 306127.0: 1, 76300.0: 1, 275150.0: 1, 205150.0: 1, 268400.0: 1, 187111.0: 1, 126273.0: 1, 336000.0: 1, 197046.0: 1, 266300.0: 1, 188100.0: 1, 134589.0: 1, 305055.0: 1, 212800.0: 1, 87906.0: 1, 161510.0: 1, 248000.0: 1, 143562.0: 1, 255100.0: 1, 210543.0: 1, 65983.0: 1, 16700.0: 1, 13600.0: 1, 200398.0: 1, 219466.0: 1, 72023.0: 1, 225236.0: 1, 104929.0: 1, 148733.0: 1, 186500.0: 1, 159179.0: 1, 133250.0: 1, 196244.0: 1, 65384.0: 1, 168609.0: 1, 171200.0: 1, 144652.0: 1, 29300.0: 1, 141578.0: 1, 270700.0: 1, 138000.0: 1, 102900.0: 1, 169560.0: 1, 186129.0: 1, 191878.0: 1, 167876.0: 1, 299.0: 1, 169100.0: 1, 140216.0: 1, 315000.0: 1, 98300.0: 1, 126600.0: 1, 153600.0: 1, 99900.0: 1, 56762.0: 1, 155241.0: 1, 119548.0: 1, 50544.0: 1, 108138.0: 1, 190200.0: 1, 241206.0: 1, 196132.0: 1, 68000.0: 1, 159101.0: 1, 101600.0: 1, 112851.0: 1, 176280.0: 1, 111165.0: 1, 290688.0: 1, 49890.0: 1, 15300.0: 1, 226362.0: 1, 205800.0: 1, 163350.0: 1, 232800.0: 1, 260500.0: 1, 241087.0: 1, 125702.0: 1, 142600.0: 1, 129128.0: 1, 1260.0: 1, 124976.0: 1, 105007.0: 1, 176514.0: 1, 212425.0: 1, 56000.0: 1, 410000.0: 1, 217909.0: 1, 299338.0: 1, 217300.0: 1, 119300.0: 1, 164500.0: 1, 95902.0: 1, 178600.0: 1, 172500.0: 1, 149250.0: 1, 260800.0: 1, 180786.0: 1, 31800.0: 1, 106100.0: 1, 195255.0: 1, 143856.0: 1, 387000.0: 1, 159830.0: 1, 263000.0: 1, 34000.0: 1, 116426.0: 1, 93961.0: 1, 178523.0: 1, 141258.0: 1, 140085.0: 1, 181896.0: 1, 160520.0: 1, 16900.0: 1, 291567.0: 1, 164050.0: 1, 100860.0: 1, 131300.0: 1, 157900.0: 1, 118818.0: 1, 94626.0: 1, 246926.0: 1, 214884.0: 1, 143673.0: 1, 168234.0: 1, 137297.0: 1, 313000.0: 1, 278450.0: 1, 247300.0: 1, 333000.0: 1, 215250.0: 1, 1250.0: 1, 138597.0: 1, 163520.0: 1, 199900.0: 1, 172688.0: 1, 251800.0: 1, 204971.0: 1, 195300.0: 1, 98680.0: 1, 277000.0: 1, 221500.0: 1, 104675.0: 1, 151400.0: 1, 1800.0: 1, 200773.0: 1, 221365.0: 1, 384566.0: 1, 109195.0: 1, 113043.0: 1, 43452.0: 1, 283140.0: 1, 64374.0: 1, 176500.0: 1, 131500.0: 1, 114180.0: 1, 74030.0: 1, 125400.0: 1, 43722.0: 1, 65985.0: 1, 201172.0: 1, 187575.0: 1, 102020.0: 1, 237500.0: 1, 45008.0: 1, 86800.0: 1, 259000.0: 1, 131541.0: 1, 93584.0: 1, 202760.0: 1, 167500.0: 1, 71342.0: 1, 13518.0: 1, 128533.0: 1, 102709.0: 1, 186600.0: 1, 191547.0: 1, 123149.0: 1, 165900.0: 1, 227291.0: 1, 150800.0: 1, 172310.0: 1, 197456.0: 1, 372000.0: 1, 228800.0: 1, 215156.0: 1, 225490.0: 1, 140013.0: 1, 163373.0: 1, 181856.0: 1, 11910.0: 1, 24000.0: 1, 231021.0: 1, 180480.0: 1, 174801.0: 1, 29000.0: 1, 102077.0: 1, 23000.0: 1, 293000.0: 1, 165150.0: 1, 252184.0: 1, 140417.0: 1, 87700.0: 1, 140500.0: 1, 236574.0: 1, 162500.0: 1, 111500.0: 1, 171744.0: 1, 334000.0: 1, 163800.0: 1, 70000.0: 1, 294800.0: 1, 172648.0: 1, 85500.0: 1, 37500.0: 1, 327000.0: 1, 214254.0: 1, 202350.0: 1, 94951.0: 1, 9500.0: 1, 132384.0: 1, 231200.0: 1, 93506.0: 1, 198200.0: 1, 153011.0: 1, 128600.0: 1, 189521.0: 1, 233088.0: 1, 321111.0: 1, 267157.0: 1, 304300.0: 1, 26440.0: 1, 177200.0: 1, 198300.0: 1, 108631.0: 1, 204540.0: 1, 297613.0: 1, 182500.0: 1, 135491.0: 1, 86133.0: 1, 174921.0: 1, 131600.0: 1, 191231.0: 1, 159510.0: 1, 288500.0: 1, 217200.0: 1, 51700.0: 1, 175400.0: 1, 250121.0: 1, 217828.0: 1, 71400.0: 1, 114991.0: 1, 96284.0: 1, 85736.0: 1, 200400.0: 1, 125114.0: 1, 67210.0: 1, 298613.0: 1, 189547.0: 1, 179090.0: 1, 269021.0: 1, 341021.0: 1, 326835.0: 1, 31865.0: 1, 132850.0: 1, 246500.0: 1, 165500.0: 1, 1257.0: 1, 122650.0: 1}\n"
     ]
    }
   ],
   "source": [
    "model_mileage = df['Mileage'].value_counts().to_dict()\n",
    "print(model_mileage)"
   ]
  },
  {
   "cell_type": "code",
   "execution_count": 266,
   "metadata": {},
   "outputs": [
    {
     "name": "stdout",
     "output_type": "stream",
     "text": [
      "{'Ön': 2799, 'Tam': 522, 'Arxa': 85}\n"
     ]
    }
   ],
   "source": [
    "model_drive_type = df['Drive Type'].value_counts().to_dict()\n",
    "print(model_drive_type)\n"
   ]
  },
  {
   "cell_type": "code",
   "execution_count": 267,
   "metadata": {},
   "outputs": [
    {
     "name": "stdout",
     "output_type": "stream",
     "text": [
      "{'1': 1195, 'değer yok': 1104, '2': 846, '0': 190, '3': 59, '4 və daha çox': 12}\n"
     ]
    }
   ],
   "source": [
    "model_owner_count = df['Owner Count'].value_counts().to_dict()\n",
    "print(model_owner_count)"
   ]
  },
  {
   "cell_type": "code",
   "execution_count": 268,
   "metadata": {},
   "outputs": [
    {
     "name": "stdout",
     "output_type": "stream",
     "text": [
      "{'Koreya': 1177, 'değer yok': 941, 'Rəsmi diler': 428, 'Amerika': 411, 'Avropa': 377, 'Digər': 47, 'Dubay': 19, 'Yaponiya': 4, 'Rusiya': 2}\n"
     ]
    }
   ],
   "source": [
    "model_origin = df['Origin'].value_counts().to_dict()\n",
    "print(model_origin)"
   ]
  },
  {
   "cell_type": "code",
   "execution_count": 269,
   "metadata": {},
   "outputs": [
    {
     "name": "stdout",
     "output_type": "stream",
     "text": [
      "{'Avtosalon \"CarPro\"': 79, 'Avtosalon \"White City Cars\"': 65, 'Sahib': 59, 'Elvin': 46, 'Avtosalon \"Wolf Cars\"': 43, 'Orxan': 40, 'Anar': 39, 'Kia Motors Sumqayıt': 39, 'Elnur': 39, 'Samir': 38, 'Emin': 36, 'Avtosalon \"AEN Cars\"': 34, 'Nicat': 30, 'Ramin': 29, 'Murad': 29, 'Tural': 28, 'Avtosalon \"Lüks Avto\"': 28, 'Zaur': 28, 'Ruslan': 26, 'Namiq': 26, 'Elcin': 26, 'Avtosalon \"Okean\"': 26, 'Avtosalon \"Full 111 Cars Sumqayıt\"': 25, 'Vüqar': 25, 'Vüsal': 24, 'Emil': 24, 'Farid': 23, 'Kia Motors Azerbaijan': 23, 'Əli': 22, 'Ceyhun': 22, 'Avtosalon \"011 Cars Sumqayıt\"': 22, 'Ferid': 21, 'Adil': 20, 'Azer': 19, 'Kenan': 19, 'Aslan': 18, 'Yusif': 18, 'Ilham': 18, 'Avtosalon \"A.A Cars\"': 18, 'Eli': 17, 'Fuad': 16, 'Natiq': 16, 'Vusal': 15, 'Elşən': 15, 'Ramil': 15, 'Cavid': 15, 'İlqar': 14, 'Nurlan': 14, 'Kənan': 14, 'Avtosalon \"Avto 014\"': 14, 'Aga': 14, 'Avtosalon \"Qətər Auto\"': 14, 'Rəşad': 14, 'Mikayil': 13, 'Avtosalon \"My Cars\"': 13, 'Avtosalon \"114 Cars Badamdar\"': 13, 'İlkin': 13, 'Amil': 13, 'Avtosalon \"Olimp\"': 13, 'Avtosalon \"Eurocar\"': 13, 'Ibrahim': 13, 'Avtosalon \"114 Avto\"': 13, 'Cəlal': 12, 'Mahmud': 12, 'Avtosalon \"021 Cars\"': 12, 'Vuqar': 12, 'Ulvi': 12, 'Elmin': 12, 'Avtosalon \"017 Cars\"': 12, 'Rövşən': 11, 'Kamran': 11, 'Eldeniz': 11, 'Nihad': 11, 'Sənan': 11, 'Əziz': 11, 'Avtosalon \"Toyota-Lexus-Kia Badamdar Diler\"': 10, 'Yaşar': 10, 'Kia Motors Gənclik': 10, 'Elman': 10, 'Seymur': 10, 'Asim': 10, 'Cavanşir': 10, 'Camal': 10, 'Turan': 10, 'Elçin': 10, 'Ehtiram': 10, 'Avtosalon \"1 IST Cars Sumqayıt 2\"': 9, 'Sabir': 9, 'Cəmil': 9, 'Cebrayil': 9, 'TOGRUL': 9, 'Resad': 9, 'Afiq': 9, 'Avtosalon \"001 Star Cars\"': 9, 'Ramiz': 9, 'Fərid': 9, 'Ömər': 9, 'Məhərrəm': 9, 'Edalet': 9, 'Abdulla': 9, 'Əjdər': 9, 'Pərviz': 8, 'Asif': 8, 'Avtosalon \"Forsaj M.M\"': 8, 'İbrahim': 8, 'Senan': 8, 'Səməd': 8, 'Rəvan': 8, 'Şahin': 8, 'Abuset': 8, 'Kurban': 8, 'orxan': 8, 'Faiq': 8, 'Avtosalon \"NN Cars\"': 8, 'Mehman': 8, 'Avtosalon \"MM Cars\"': 8, 'Nemat': 8, 'Taleh': 8, 'Xanlar': 8, 'Ayaz': 8, 'Tofiq': 8, 'Avtosalon \"Dəniz Cars\"': 8, 'Aydın': 7, 'Ekber': 7, 'Rəhim': 7, 'Rufet': 7, 'Fariz': 7, 'Avtosalon \"Cənub Avto\"': 7, 'Avtosalon \"CarPro Dərnəgül\"': 7, 'Avtosalon \"VV Cars\"': 7, 'Vasif': 7, 'Rasim': 7, 'Avtosalon \"056\"': 7, 'Avtosalon \"Trend Cars\"': 7, 'Avtosalon \"AvtoSum\"': 7, 'Avtosalon \"039 Cars Sumqayıt\"': 7, 'Samxal': 7, 'Hüseyn': 7, 'Əhməd': 7, 'Avtosalon \"888 Sumqayıt\"': 7, 'Avtosalon \"Murad Avto\"': 7, 'Ali': 7, 'Rəfi': 7, 'Aydin': 6, 'elcin': 6, 'Musa': 6, 'Hamid': 6, 'Ağa': 6, 'Kamil': 6, 'Elgun': 6, 'Avtosalon \"007 ZZ Bakı\"': 6, 'Toğrul': 6, 'Elnara': 6, 'Elmir': 6, 'РУСЛАН': 6, 'Avtosalon \"Start\"': 6, 'Möylam': 6, 'Avtosalon \"002 Prestige Cars\"': 6, 'Avtosalon \"1 IST Cars Baku\"': 6, 'Avtosalon \"Abu Dabi Cars №1\"': 6, 'Bəxtiyar': 6, 'Eldar': 6, 'Sakit.': 6, 'İsmayi': 6, 'Hesen': 6, 'Avtosalon \"1 IST Cars Sumqayıt\"': 6, 'Mahir': 6, 'Avtosalon \"222\"': 6, 'Ilkin': 6, 'Sarxan': 6, 'Avtosalon \"Cars 041\"': 6, 'Qosqar': 6, 'Əfsun': 6, 'HARUN': 5, 'Huseyn': 5, 'Avtosalon \"Hollywood Cars\"': 5, 'Rovsen': 5, 'Mehdi': 5, 'Ismayil': 5, 'Etibar': 5, 'İmran': 5, 'Vaqif': 5, 'Mehemmed': 5, 'İlham': 5, 'Araz': 5, 'Sahin': 5, 'Orucəli': 5, 'Elxan': 5, 'Avtosalon \"003 Gold Cars\"': 5, 'Aqil': 5, 'Rauf': 5, 'Avtosalon \"RR 333 Cars\"': 5, 'Elmar': 5, 'Saleh': 5, 'Məhəmməd': 5, 'Eldəniz': 4, 'Ülvi': 4, 'Sadiq': 4, 'ELXAN': 4, 'Behruz': 4, 'Ayxan': 4, 'Telman': 4, 'Arif': 4, 'Rehim': 4, 'Azad': 4, 'Xəyal': 4, 'Avtosalon \"Arena Motors\"': 4, 'Avtosalon \"200\"': 4, 'Rafiq': 4, 'Avtosalon \"Tıyaqmus\"': 4, 'Avtosalon \"RH\"': 4, 'Novruz': 4, 'Cavad': 4, 'Rüfət': 4, 'Avtosalon \"151 Cars\"': 4, 'Avtosalon \"Anar Cars\"': 4, 'Ilqar': 4, 'Avtosalon \"Driven Cars Novxanı\"': 4, 'Ramal': 4, 'Cahangir': 4, 'Kamal': 4, 'Eltun': 4, 'Avtosalon \"Brend Cars\"': 3, 'Elshen': 3, 'Ziya': 3, 'Əmrah': 3, 'Elsen': 3, 'Yunis': 3, 'Qoşqar': 3, 'Avtosalon \"Pegasus Auto\"': 3, 'Şəhriyar': 3, 'Pervin': 3, 'Togrul': 3, 'Rahil': 3, 'Hemid': 3, 'Avtosalon \"005 Ideal Cars Sumqayıt\"': 3, 'İsi': 3, 'Aqsin': 3, 'Şamil': 3, 'Şamxal': 3, 'Malik': 3, 'Elsan': 3, 'Avtosalon \"002 Cars\"': 3, 'Babek': 3, 'Avtosalon \"Həmid Sumqayıt\"': 3, 'Zahid': 3, 'Elsad': 3, 'Avtosalon \"Auto Shop\"': 3, 'Xalid': 3, 'Aksin': 3, 'Bayram': 3, 'Ugur': 3, 'Elgün': 3, 'Davud': 3, 'Miri': 3, 'Cavidan': 3, 'Calal': 3, 'Avtosalon \"777 Cars Sumqayıt\"': 3, 'Avtosalon \"Yellow Cars\"': 3, 'Ələkbər': 3, 'YASHAR': 3, 'Namik': 3, 'Avtosalon \"Mega Cars\"': 3, 'Avtosalon \"Auto Group Salon & Leasing\"': 3, 'Babək': 3, 'Revan': 3, 'Fərhad': 3, 'Abbas': 3, 'Həsən': 3, 'Serdar': 2, 'Niyaz': 2, 'Gunduz': 2, 'Cahid': 2, 'İsrafil': 2, 'Avtosalon \"Auto AY\"': 2, 'Roma': 2, 'Emrah': 2, 'Xaqani': 2, 'Siyavuş': 2, 'Tahir': 2, 'Avtosalon \"AvtoExpress Baku\"': 2, 'Avtosalon \"010 Cars\"': 2, 'Hasan': 2, 'Avtosalon \"Avto Arena\"': 2, 'Elshan': 2, 'Serxan': 2, 'Islam': 2, 'Avtosalon \"Pro Cars\"': 2, 'Tariyel': 2, 'Səxavət': 2, 'Sabuhi': 2, 'Həci': 2, 'Avtosalon \"Lider\"': 2, 'Xaliq': 2, 'Elnar': 2, 'Avtosalon \"R\"': 2, 'Suleyman': 2, 'Qadir': 2, 'Penah': 2, 'Royal': 2, 'Oruc': 2, 'Avtosalon \"Baku Gallery\"': 2, 'Əkrəm': 2, 'Umid': 2, 'Süleyman': 2, 'Səbuhi': 2, 'Elşad': 2, 'Cefer': 2, 'Hafiz': 2, 'Omer': 2, 'Behram': 2, 'Avtosalon \"357\"': 2, 'Avtosalon \"Baku Cars\"': 2, 'Avtosalon \"Auto Dədəmin\"': 2, 'Zəka': 2, 'Sərxan': 2, 'Sexavet': 2, 'Terlan': 2, 'Reshid': 2, 'Deyanet': 2, 'Avtosalon \"Abşeron Motors\"': 2, 'Aqşin': 2, 'Tərlan': 2, 'Coşqun': 2, 'Avtosalon \"EN Cars\"': 2, 'Avtosalon \"N&N 064\"': 2, 'Rahib': 2, 'ilkin': 2, 'Akif': 2, 'Teymur': 2, 'Eyvaz': 2, 'Maqsud': 2, 'Hikmət': 2, 'Rasad': 2, 'Heydər': 2, 'Xeyal': 2, 'Niyazi': 2, 'Ramazan': 2, 'Sahil': 2, 'Azar': 2, 'Zahir': 2, 'Avtosalon \"TT 064 Cars\"': 2, 'Söhrab': 2, 'Avtosalon \"050 Cars Sumqayıt\"': 2, 'Resul': 2, 'Seyran': 2, 'Fizuli': 2, 'Avtosalon \"Abşeron Cars\"': 2, 'Rza': 2, 'Avtosalon \"Full Cars\"': 2, 'FUAD': 2, 'Sakit': 2, 'Avtosalon \"Cars TT 039\"': 2, 'Vahid': 2, 'Avtosalon \"Cars N1 Sumqayıt\"': 2, 'Avtosalon \"555 Cars\"': 2, 'Arzu': 2, 'Azər': 2, 'Hilal': 2, 'Nihat': 2, 'Bilal': 2, 'Məzahir': 2, 'Zeyneb': 2, 'Yasin': 2, 'Rafət': 2, 'Nizami': 2, 'Qədir': 2, 'Alim': 2, 'Avtosalon \"S+ Cars\"': 2, 'İslam': 2, 'Samid': 2, 'Taceddin': 2, 'Valeh': 2, 'Qurban': 2, 'Yalçın': 2, 'Hacı': 2, 'Avtosalon \"Badamdar Rəsmi Diler Studio360\"': 2, 'Teyyub': 2, 'Habil': 2, 'İntiqam': 2, 'Əsgər': 2, 'Isa': 2, 'Qalib': 2, 'Avtosalon \"Auto Store\"': 2, 'Fexri': 2, 'Mərdan': 1, 'Eısen': 1, 'Sabina': 1, 'Şirxan': 1, 'Isgender': 1, 'Veyis': 1, 'Iqbal': 1, 'M.Anar': 1, 'Receb': 1, 'Siyavus': 1, 'Fazil': 1, 'Agarza': 1, 'Azəri': 1, 'AZAD': 1, 'Sukur': 1, 'Nusret': 1, 'Mammad': 1, 'Faid': 1, 'Huseyin': 1, 'Maharram': 1, 'sadiq': 1, 'Isfəndiyar': 1, 'Hidayet': 1, 'Ariz': 1, 'Tale': 1, 'Avtosalon \"Avto Arena - ikinci əl\"': 1, 'Aziz': 1, 'Xayal': 1, 'Firudin': 1, 'Esed': 1, 'Salam': 1, 'Nərman': 1, 'Nemət': 1, 'Əfqan': 1, 'nicat': 1, 'Kanan': 1, 'VASIF': 1, 'Rüfet': 1, 'Talex': 1, 'Rufat': 1, 'Çıraq': 1, 'Amid': 1, 'Рома': 1, 'Gülnar': 1, 'Yaqub': 1, 'Sunay': 1, 'Sədi': 1, 'Paşa': 1, 'CƏFƏR': 1, 'mahir': 1, 'Bakir': 1, 'Avtosalon \"Best Cars\"': 1, 'Rosən': 1, 'Nurməhəmməd': 1, 'Şənlik': 1, 'Cesur': 1, 'AbdulAziz': 1, 'ramil': 1, 'Narman': 1, 'Cabir': 1, 'emil': 1, 'Agali': 1, 'Abutalib': 1, 'Avtosalon \"Autosell\"': 1, 'Mezahir': 1, 'Avtosalon \"Auto Holding\"': 1, 'Nergiz': 1, 'Nuran': 1, 'Şamo': 1, 'Fexi': 1, 'Umud': 1, 'Sərvan': 1, 'Çingiz': 1, 'Timur': 1, 'Raqil': 1, 'Ruzigar': 1, 'saeid': 1, 'İsbəndiyar': 1, 'Muraz': 1, 'Teyyar': 1, 'İbragim': 1, 'samxal': 1, 'Elwad': 1, 'Tehmez': 1, 'Settar': 1, 'taleh': 1, 'Sübhan': 1, 'Meherrem': 1, 'Çoşkun': 1, 'Zeydulla': 1, 'Axmed': 1, 'Sadik': 1, 'Parviz': 1, 'Muradxan müəllim': 1, 'Aleksandr': 1, 'Bəylər': 1, 'Mansur': 1, 'ayaz': 1, 'Ələtdin': 1, 'Hamlet': 1, 'Фаик': 1, 'Qüdret': 1, 'Fərman': 1, 'Avtosalon \"101 Cars\"': 1, 'Rəşid': 1, 'Mobil': 1, 'Maqa': 1, 'Eulfez': 1, 'Ələddin': 1, 'Nail': 1, 'Nurmet': 1, 'Taryel': 1, 'Avtosalon \"Salam Avto\"': 1, 'Şahmar': 1, 'Sevinc': 1, 'Ziyaməddin': 1, 'Samil': 1, 'Elnare': 1, 'Bextiyar': 1, 'Terxan': 1, 'Feruz': 1, 'Aliq': 1, 'Aliyar': 1, 'Mikayıl': 1, 'Hidayət': 1, 'Тимур': 1, 'VÜSAL': 1, 'Avtosalon \"090 Cars\"': 1, 'Eldost': 1, 'adil': 1, 'Tehran': 1, 'Sehane': 1, 'CaviD': 1, 'Punhan': 1, 'Abas': 1, 'isa': 1, 'Münasib': 1, 'Avtosalon \"Araz Auto\"': 1, 'CEYHUN': 1, 'Agadadash': 1, 'Qərib': 1, 'Zakir': 1, 'calal': 1, 'Nurayə': 1, 'Xalil': 1, 'Kazım': 1, 'Husein': 1, 'Aynar': 1, 'Fəda': 1, 'Nemet': 1, 'Qaras': 1, 'Elekber': 1, 'Filman': 1, 'Bünyamin': 1, 'Nəbi': 1, 'rza': 1, 'Müşviq': 1, 'Gulhəsən': 1, 'Roman': 1, 'Pervın': 1, 'Semed': 1, 'Elburus': 1, 'Cehun': 1, 'Israfil': 1, 'Abuzər': 1, 'Etbar': 1, 'Ruhin': 1, 'Qeys': 1, 'Qerib': 1, 'Şaxı': 1, 'Gasan': 1, 'Ejder': 1, 'Əliyar': 1, 'Amin': 1, 'saki': 1, 'Atilla': 1, 'Mirsahin': 1, 'Mehrac': 1, 'Yura': 1, 'gunel': 1, 'Avtosalon \"Auto House\"': 1, 'Avtosalon \"088\"': 1, 'Asiman': 1, 'Sayid': 1, 'Rafet': 1, 'David': 1, 'Baday': 1, 'Mursəl': 1, 'nizami': 1, 'Wirin': 1, 'Сакит': 1, 'Heşim': 1, 'Ehliman': 1, 'Rəşadət': 1, 'Avtosalon \"Prestige Auto\"': 1, 'Baylar': 1, 'Avtosalon \"SS Cars\"': 1, 'Xan': 1, 'Simral': 1, 'Polad': 1, 'Celal': 1, 'Bəhram': 1, 'arif': 1, 'Fəxri': 1, 'Mahammad': 1, 'Elçın': 1, 'rabil': 1, 'Şahbaba': 1, 'Elchin': 1, 'Edik': 1, 'Qəfər': 1, 'Nəcməddin': 1, 'Radim': 1, 'Anara': 1, 'SAHİB': 1, 'Suretdin': 1, 'Efqan': 1, 'İsmayil': 1, 'Niyameddin': 1, 'Elbrus': 1, 'camal': 1, 'Vitalik': 1, 'Elsever': 1, 'AQIL': 1, 'Miraga': 1, 'Avtosalon \"111 Xəzər\"': 1, 'Hebib': 1, 'Elmeddin': 1, 'Semender': 1, 'Qara': 1, 'Dəyanət': 1, 'RÖYAL': 1, 'Veli': 1, 'Raul': 1, 'Coşqun M': 1, 'Adil m': 1, 'Avtosalon \"AS\"': 1, 'Fikrət': 1, 'Tağı': 1, 'Sərdar': 1, 'Avtosalon \"HH Avto\"': 1, 'Rustem': 1, 'Sahmar': 1, 'Misir': 1, 'Yusuf': 1, 'Elməddin': 1, 'Şövqi': 1, 'Elshad': 1, 'Resid': 1, 'Rustam': 1, 'Baris': 1, 'Naib': 1, 'Resac': 1, 'Avtosalon \"RR 039 Cars\"': 1, 'Gulaga': 1, 'Kerim': 1, 'Adıgözəl': 1, 'Rasul': 1, 'Erkin': 1, 'Rüsdəm': 1, 'Şəmsi': 1, 'sebuhi': 1, 'Sahibi': 1, 'Mehti': 1, 'Sebuhi': 1, 'Миргасан': 1, 'İLQAR': 1, 'Yalcin': 1, 'Ferhad': 1, 'Rinat': 1, 'Alik': 1, 'Reshad': 1, 'Avtosalon \"085 Cars\"': 1, 'İman': 1, 'Metleb': 1, 'ilqar': 1, 'Qürbət': 1, 'Elvir': 1, 'Ruhid': 1, 'Avtosalon \"Diamond Cars\"': 1, 'Beykes': 1, 'Eziz': 1, 'Pərvin': 1, 'Memmed': 1, 'ekrem': 1, 'Asad': 1, 'Ənvər': 1, 'SAMAD MALIM': 1, 'Bəhruz': 1, 'Avtosalon \"Berlin Cars\"': 1, 'Nurxan': 1, 'Talha': 1, 'Eshref': 1, 'Arrr': 1, 'Hakim': 1, 'Xeyhal': 1, 'Talıb': 1, 'Şahbaz': 1, 'ƏLİ': 1, 'Nici': 1, 'Bəybala': 1, 'Serhat': 1, 'Haci': 1, 'Üzeyir': 1, 'Mubariz': 1, 'fuad': 1, 'Sinan': 1, 'Hikmet': 1, 'Wukufe': 1, 'Seddam': 1, 'Leman': 1, 'Xezer': 1, 'Nazim': 1, 'Karim': 1, 'Asef': 1, 'Fikret': 1, 'Zamiq': 1, 'Qafar': 1, 'Jalə': 1, 'Xanım': 1, 'Nuru': 1, 'Ədalət': 1, 'Ramilə': 1, 'şahin': 1, 'Avtosalon \"Dubai Cars\"': 1, 'Tunar': 1, 'Behnam': 1, 'Rahim': 1, 'Afqan': 1, 'Cəfər': 1, 'ELVİN': 1, 'Rüstem': 1, 'elmir': 1, 'Subhan': 1, 'isbi': 1, 'Виктор': 1, 'Selim': 1, 'Shamil': 1, 'Said': 1, 'Baba': 1, 'Mədəd': 1, 'Raqif': 1, 'Alxan': 1, 'Qüdsi': 1, 'SAMIRA': 1, 'Musdafa': 1, 'Tebriz': 1, 'ETİBAR': 1, 'EMIL': 1, 'Avtosalon \"Avtoland\"': 1, 'VTB': 1, 'Elkin': 1, 'Samira': 1, 'Akber': 1, 'Avtosalon \"F Avto\"': 1, 'NIHAT': 1, 'ƏŞRƏF': 1, 'Firdovsi': 1, 'VÜQAR': 1, 'Balabey': 1, 'Aytən': 1, 'Rovlan': 1, 'Avtosalon \"100 Cars\"': 1, 'Aftandil': 1, 'Bəbir': 1, 'Nadir': 1, 'Avtosalon \"Royal Motors\"': 1, 'Rahid': 1, 'NAMIQ': 1, 'Əkbər': 1, 'Şahsuvar': 1, 'Avtosalon \"707\"': 1, 'Famil': 1, 'Elcan': 1, 'Emıl': 1, 'Avtosalon \"Ağa Avto\"': 1, 'Afeddin': 1, 'Nizam': 1, 'ehmed': 1, 'Mirazer': 1, 'Merhemed': 1, 'Xelil': 1, 'Zamin': 1, 'Bahram': 1, 'Şehriyar': 1, 'Maga': 1, 'Təyyar': 1, 'Rəhman': 1, 'aga': 1, 'Perviz': 1, 'Vidadi': 1, 'Cabbar': 1, 'Zəki': 1, 'SOLTAN': 1, 'Emir': 1, 'Nesimi': 1, 'Rafael': 1, 'Muxtar': 1, 'Celil': 1, 'Razzaq': 1, 'İbis': 1, 'Sarvan': 1, 'Sani': 1, 'Geray': 1, 'ziya': 1, 'Mirsəfər': 1, 'Dilqem': 1}\n"
     ]
    }
   ],
   "source": [
    "model_saler_name = df['Saler_name'].value_counts().to_dict()\n",
    "print(model_saler_name)\n"
   ]
  },
  {
   "cell_type": "code",
   "execution_count": 270,
   "metadata": {},
   "outputs": [
    {
     "name": "stdout",
     "output_type": "stream",
     "text": [
      "{'2.0 L/184 a.g./Dizel': 947, '2.0 L/274 a.g./Benzin': 171, '2.0 L/150 a.g./Benzin': 162, '1.4 L/97 a.g./Benzin': 108, '1.6 L/115 a.g./Dizel': 100, '2.4 L/180 a.g./Benzin': 84, '2.2 L/197 a.g./Dizel': 80, '1.4 L/107 a.g./Benzin': 78, '1.5 L/110 a.g./Dizel': 58, '2.0 L/186 a.g./Dizel': 58, '2.2 L/202 a.g./Dizel': 56, '1.4 L/109 a.g./Benzin': 55, '2.0 L/163 a.g./Benzin': 43, '1.6 L/123 a.g./Benzin': 42, '1.6 L/130 a.g./Benzin': 41, '1.4 L/100 a.g./Benzin': 39, '1.5 L/109 a.g./Dizel': 38, '2.0 L/165 a.g./Benzin': 38, '2.0 L/141 a.g./Benzin': 37, '2.0 L/184 a.g./Benzin': 35, '2.0 L/140 a.g./Dizel': 34, '1.6 L/124 a.g./Benzin': 31, '3.5 L/290 a.g./Benzin': 30, '2.0 L/245 a.g./Benzin': 29, '2.0 L/156 a.g./Benzin': 29, '2.4 L/188 a.g./Benzin': 29, '1.8 L/149 a.g./Benzin': 28, '2.2 L/200 a.g./Dizel': 27, '1.6 L/141 a.g./Dizel': 26, '2.4 L/200 a.g./Hibrid': 26, '1.6 L/230 a.g./Hibrid': 25, '2.0 L/150 a.g./Dizel': 23, '2.0 L/143 a.g./Benzin': 21, '1.6 L/130 a.g./Dizel': 21, '2.0 L/247 a.g./Benzin': 21, '2.4 L/175 a.g./Benzin': 19, '1.1 L/75 a.g./Dizel': 19, '1.7 L/141 a.g./Dizel': 18, '1.6 L/122 a.g./Benzin': 18, '1.4 L/90 a.g./Dizel': 18, '1.6 L/116 a.g./Dizel': 18, '2.4 L/174 a.g./Benzin': 17, '1.5 L/112 a.g./Dizel': 16, '2.0 L/165 a.g./Hibrid': 16, '0.0 L/184 a.g./Elektro': 15, '2.5 L/170 a.g./Dizel': 15, '2.5 L/140 a.g./Dizel': 15, '1.6 L/180 a.g./Benzin': 14, '1.6 L/126 a.g./Benzin': 14, '3.5 L/195 a.g./Benzin': 12, '1.6 L/220 a.g./Hibrid': 12, '2.0 L/240 a.g./Benzin': 11, '1.6 L/178 a.g./Benzin': 11, '1.6 L/237 a.g./Hibrid': 10, '2.4 L/159 a.g./Hibrid': 10, '1.6 L/128 a.g./Dizel': 10, '2.7 L/130 a.g./Dizel': 9, '2.0 L/150 a.g./Hibrid': 9, '2.0 L/180 a.g./Benzin': 9, '2.0 L/166 a.g./Benzin': 9, '2.0 L/168 a.g./Benzin': 8, '1.5 L/160 a.g./Benzin': 8, '1.6 L/227 a.g./Hibrid': 8, '1.3 L/85 a.g./Benzin': 8, '2.0 L/243 a.g./Benzin': 8, '1.4 L/90 a.g./Benzin': 8, '1.7 L/136 a.g./Dizel': 8, '2.5 L/145 a.g./Dizel': 7, '2.5 L/174 a.g./Dizel': 7, '1.1 L/65 a.g./Benzin': 7, '2.0 L/136 a.g./Benzin': 7, '2.0 L/144 a.g./Benzin': 7, '1.6 L/184 a.g./Benzin': 7, '1.6 L/132 a.g./Benzin': 7, '2.4 L/200 a.g./Benzin': 7, '1.6 L/136 a.g./Dizel': 7, '2.5 L/180 a.g./Benzin': 7, '2.0 L/265 a.g./Benzin': 7, '2.0 L/145 a.g./Benzin': 7, '1.0 L/82 a.g./Benzin': 6, '2.0 L/185 a.g./Dizel': 6, '2.0 L/140 a.g./Benzin': 6, '1.5 L/105 a.g./Benzin': 5, '2.4 L/176 a.g./Benzin': 5, '2.0 L/136 a.g./Dizel': 5, '1.6 L/128 a.g./Benzin': 5, '1.6 L/121 a.g./Dizel': 5, '2.5 L/194 a.g./Benzin': 5, '1.6 L/90 a.g./Dizel': 4, '1.2 L/86 a.g./Benzin': 4, '1.0 L/69 a.g./Benzin': 4, '1.5 L/136 a.g./Dizel': 4, '1.6 L/122 a.g./Dizel': 4, '2.4 L/184 a.g./Benzin': 4, '1.7 L/115 a.g./Dizel': 4, '1.6 L/177 a.g./Dizel': 4, '1.6 L/126 a.g./Dizel': 3, '2.4 L/139 a.g./Benzin': 3, '1.6 L/129 a.g./Benzin': 3, '2.0 L/145 a.g./Dizel': 3, '2.4 L/178 a.g./Benzin': 3, '2.7 L/175 a.g./Benzin': 3, '2.0 L/128 a.g./Benzin': 3, '1.6 L/138 a.g./Dizel': 3, '2.0 L/165 a.g./Qaz': 3, '1.8 L/148 a.g./Benzin': 3, '1.6 L/123 a.g./Dizel': 3, '2.0 L/164 a.g./Benzin': 3, '2.7 L/150 a.g./Dizel': 3, '2.0 L/149 a.g./Benzin': 3, '1.4 L/109 a.g./Dizel': 2, '2.2 L/65 a.g./Dizel': 2, '2.0 L/138 a.g./Dizel': 2, '1.3 L/73 a.g./Benzin': 2, '1.6 L/125 a.g./Benzin': 2, '3.8 L/290 a.g./Benzin': 2, '2.7 L/189 a.g./Benzin': 2, '2.0 L/152 a.g./Benzin': 2, '1.6 L/102 a.g./Benzin': 2, '3.3 L/248 a.g./Benzin': 2, '2.0 L/187 a.g./Hibrid': 2, '1.6 L/112 a.g./Dizel': 2, '2.0 L/112 a.g./Dizel': 2, '2.0 L/261 a.g./Benzin': 2, '3.0 L/86 a.g./Dizel': 2, '1.6 L/112 a.g./Benzin': 2, '1.6 L/115 a.g./Benzin': 2, '1.6 L/132 a.g./Dizel': 2, '2.0 L/178 a.g./Dizel': 2, '1.6 L/136 a.g./Hibrid': 2, '1.1 L/64 a.g./Benzin': 2, '2.0 L/205 a.g./Hibrid': 2, '2.0 L/261 a.g./Dizel': 2, '3.8 L/274 a.g./Benzin': 2, '1.6 L/139 a.g./Hibrid': 2, '1.5 L/110 a.g./Benzin': 2, '2.0 L/188 a.g./Dizel': 1, '2.5 L/165 a.g./Benzin': 1, '2.0 L/200 a.g./Dizel': 1, '3.3 L/300 a.g./Benzin': 1, '1.5 L/92 a.g./Benzin': 1, '2.0 L/133 a.g./Benzin': 1, '2.0 L/156 a.g./Hibrid': 1, '1.5 L/107 a.g./Dizel': 1, '2.0 L/190 a.g./Hibrid': 1, '1.2 L/85 a.g./Benzin': 1, '2.0 L/255 a.g./Benzin': 1, '3.8 L/262 a.g./Benzin': 1, '1.6 L/105 a.g./Benzin': 1, '2.0 L/163 a.g./Qaz': 1, '2.7 L/175 a.g./Qaz': 1, '2.4 L/210 a.g./Benzin': 1, '2.5 L/172 a.g./Dizel': 1, '1.6 L/139 a.g./Benzin': 1, '1.5 L/97 a.g./Benzin': 1, '1.0 L/106 a.g./Benzin': 1, '3.8 L/294 a.g./Benzin': 1, '1.6 L/150 a.g./Dizel': 1, '2.4 L/149 a.g./Benzin': 1, '2.2 L/64 a.g./Dizel': 1, '1.8 L/130 a.g./Benzin': 1, '2.4 L/190 a.g./Benzin': 1, '1.4 L/125 a.g./Benzin': 1, '1.6 L/110 a.g./Dizel': 1, '2.5 L/75 a.g./Dizel': 1, '2.7 L/125 a.g./Dizel': 1, '3.3 L/293 a.g./Benzin': 1, '3.3 L/280 a.g./Benzin': 1, '1.5 L/108 a.g./Benzin': 1, '0.0 L/110 a.g./Elektro': 1, '2.0 L/187 a.g./Benzin': 1, '2.0 L/278 a.g./Benzin': 1, '2.0 L/141 a.g./Dizel': 1, '2.0 L/155 a.g./Benzin': 1, '1.6 L/185 a.g./Benzin': 1, '2.0 L/154 a.g./Benzin': 1, '2.0 L/155 a.g./Qaz': 1, '3.3 L/242 a.g./Benzin': 1, '2.0 L/122 a.g./Benzin': 1, '0.2 L/184 a.g./Dizel': 1, '1.8 L/184 a.g./Benzin': 1, '1.4 L/140 a.g./Benzin': 1, '3.8 L/250 a.g./Benzin': 1, '1.3 L/87 a.g./Benzin': 1, '2.2 L/184 a.g./Dizel': 1, '1.0 L/60 a.g./Benzin': 1, '2.5 L/285 a.g./Benzin': 1, '2.0 L/245 a.g./Dizel': 1, '1.4 L/107 a.g./Dizel': 1, '2.0 L/183 a.g./Dizel': 1, '2.4 L/274 a.g./Benzin': 1, '1.5 L/90 a.g./Dizel': 1, '2.7 L/120 a.g./Dizel': 1, '1.0 L/64 a.g./Benzin': 1, '1.5 L/97 a.g./Dizel': 1, '1.6 L/109 a.g./Benzin': 1, '3.8 L/266 a.g./Benzin': 1, '2.0 L/163 a.g./Dizel': 1, '1.6 L/201 a.g./Benzin': 1, '2.0 L/130 a.g./Benzin': 1, '1.6 L/116 a.g./Benzin': 1, '2.2 L/194 a.g./Dizel': 1, '1.6 L/140 a.g./Benzin': 1, '2.0 L/174 a.g./Benzin': 1, '2.5 L/187 a.g./Benzin': 1, '2.4 L/201 a.g./Benzin': 1, '1.6 L/176 a.g./Dizel': 1, '1.6 L/181 a.g./Benzin': 1, '2.0 L/132 a.g./Benzin': 1, '2.0 L/200 a.g./Benzin': 1, '2.0 L/87 a.g./Dizel': 1, '1.3 L/64 a.g./Benzin': 1, '2.4 L/198 a.g./Hibrid': 1, '3.3 L/290 a.g./Benzin': 1}\n"
     ]
    }
   ],
   "source": [
    "model_engine_details = df['Engine Details'].value_counts().to_dict()\n",
    "print(model_engine_details)\n"
   ]
  },
  {
   "cell_type": "code",
   "execution_count": 271,
   "metadata": {},
   "outputs": [
    {
     "name": "stdout",
     "output_type": "stream",
     "text": [
      "{'Avtomat': 2918, 'Mexaniki': 483, 'Robotlaşdırılmış': 5}\n"
     ]
    }
   ],
   "source": [
    "transmission_counts = df['Transmission'].value_counts().to_dict()\n",
    "print(transmission_counts)"
   ]
  },
  {
   "cell_type": "code",
   "execution_count": 272,
   "metadata": {},
   "outputs": [
    {
     "data": {
      "image/png": "[encoded data removed]",
      "text/plain": [
       "<Figure size 1000x600 with 1 Axes>"
      ]
     },
     "metadata": {},
     "output_type": "display_data"
    },
    {
     "name": "stdout",
     "output_type": "stream",
     "text": [
      "          City Brand    Model  Year        Body Type Color  \\\n",
      "0         Bakı   Kia   Cerato  2019            Sedan   Boz   \n",
      "1         Bakı   Kia  Sorento  2015  Offroader / SUV  Qara   \n",
      "2         Bakı   Kia   Cerato  2022            Sedan    Ağ   \n",
      "3     Sumqayıt   Kia      Rio  2023          Hetçbek    Ağ   \n",
      "4         Bakı   Kia   Cerato  2020            Sedan   Göy   \n",
      "...        ...   ...      ...   ...              ...   ...   \n",
      "3401      Bakı   Kia     Ceed  2007          Hetçbek  Qara   \n",
      "3402      Bakı   Kia   Optima  2016            Sedan    Ağ   \n",
      "3403      Bakı   Kia  Sorento  2015  Offroader / SUV    Ağ   \n",
      "3404      Bakı   Kia   Optima  2016            Sedan    Ağ   \n",
      "3405      Bakı   Kia     Ceed  2010        Universal  Mavi   \n",
      "\n",
      "             Engine Details   Mileage Transmission Drive Type İs_New?  \\\n",
      "0     2.0 L/150 a.g./Benzin   25000.0      Avtomat         Ön    Xeyr   \n",
      "1      2.0 L/184 a.g./Dizel   44000.0      Avtomat        Tam    Xeyr   \n",
      "2     1.6 L/130 a.g./Benzin       0.0      Avtomat         Ön    Bəli   \n",
      "3     1.4 L/107 a.g./Benzin       0.0      Avtomat         Ön    Bəli   \n",
      "4     1.6 L/130 a.g./Benzin   54000.0      Avtomat         Ön    Xeyr   \n",
      "...                     ...       ...          ...        ...     ...   \n",
      "3401   1.6 L/115 a.g./Dizel  224400.0     Mexaniki         Ön    Xeyr   \n",
      "3402   1.7 L/141 a.g./Dizel  118000.0      Avtomat       Arxa    Xeyr   \n",
      "3403   2.0 L/184 a.g./Dizel  122650.0      Avtomat        Tam    Xeyr   \n",
      "3404  2.0 L/274 a.g./Benzin  166000.0      Avtomat         Ön    Xeyr   \n",
      "3405   1.4 L/90 a.g./Benzin  268000.0     Mexaniki         Ön    Xeyr   \n",
      "\n",
      "     Seat Count Owner Count                    Condition       Origin  \\\n",
      "0             5   değer yok  Vuruğu yoxdur, rənglənməyib      Amerika   \n",
      "1     değer yok           1  Vuruğu yoxdur, rənglənməyib       Koreya   \n",
      "2             5   değer yok  Vuruğu yoxdur, rənglənməyib       Avropa   \n",
      "3     değer yok   değer yok  Vuruğu yoxdur, rənglənməyib    değer yok   \n",
      "4             5           1     Vuruğu yoxdur, rənglənib  Rəsmi diler   \n",
      "...         ...         ...                          ...          ...   \n",
      "3401          5           2  Vuruğu yoxdur, rənglənməyib       Avropa   \n",
      "3402          5           1  Vuruğu yoxdur, rənglənməyib       Koreya   \n",
      "3403          5           2  Vuruğu yoxdur, rənglənməyib       Koreya   \n",
      "3404          4           1     Vuruğu yoxdur, rənglənib    değer yok   \n",
      "3405          4   değer yok  Vuruğu yoxdur, rənglənməyib       Avropa   \n",
      "\n",
      "        Price                                Product_link  \\\n",
      "0     30500.0   https://turbo.az/autos/7577541-kia-cerato   \n",
      "1     46500.0  https://turbo.az/autos/7509258-kia-sorento   \n",
      "2     37900.0   https://turbo.az/autos/7593907-kia-cerato   \n",
      "3     35300.0      https://turbo.az/autos/7541951-kia-rio   \n",
      "4     36500.0   https://turbo.az/autos/7573063-kia-cerato   \n",
      "...       ...                                         ...   \n",
      "3401  13400.0     https://turbo.az/autos/7543010-kia-ceed   \n",
      "3402  31800.0   https://turbo.az/autos/7542958-kia-optima   \n",
      "3403  41500.0  https://turbo.az/autos/7542925-kia-sorento   \n",
      "3404  31850.0   https://turbo.az/autos/7542896-kia-optima   \n",
      "3405  11500.0     https://turbo.az/autos/7542870-kia-ceed   \n",
      "\n",
      "                 Saler_name  \n",
      "0       Avtosalon \"Eurocar\"  \n",
      "1      Avtosalon \"AEN Cars\"  \n",
      "2     Kia Motors Azerbaijan  \n",
      "3       Kia Motors Sumqayıt  \n",
      "4                    Xanlar  \n",
      "...                     ...  \n",
      "3401                  Şahin  \n",
      "3402                   Emin  \n",
      "3403                 Dilqem  \n",
      "3404                  Orxan  \n",
      "3405                  Nicat  \n",
      "\n",
      "[3406 rows x 18 columns]\n"
     ]
    }
   ],
   "source": [
    "plt.figure(figsize=(10, 6))\n",
    "df['Year'].value_counts().sort_index().plot(kind='bar', color='blue')\n",
    "plt.title('Distribution of Vehicle Manufacturing Years')\n",
    "plt.xlabel('Year')\n",
    "plt.ylabel('Number of Vehicles')\n",
    "plt.xticks(rotation=45)\n",
    "plt.grid(axis='y', alpha=0.5)\n",
    "plt.show()\n",
    "print(df)"
   ]
  },
  {
   "cell_type": "code",
   "execution_count": 273,
   "metadata": {},
   "outputs": [
    {
     "name": "stdout",
     "output_type": "stream",
     "text": [
      "City\n",
      "Bakı          2798\n",
      "Sumqayıt       342\n",
      "Gəncə           77\n",
      "Xırdalan        23\n",
      "Mingəçevir      12\n",
      "Zaqatala        12\n",
      "Tovuz           12\n",
      "Naxçıvan        10\n",
      "Şəki            10\n",
      "Masallı          9\n",
      "Bərdə            8\n",
      "Quba             7\n",
      "Şəmkir           7\n",
      "Ağdaş            7\n",
      "Xaçmaz           6\n",
      "Lənkəran         5\n",
      "İsmayıllı        5\n",
      "Qəbələ           4\n",
      "Qusar            4\n",
      "Şirvan           4\n",
      "Cəlilabad        3\n",
      "Qazax            3\n",
      "Oğuz             2\n",
      "Göygöl           2\n",
      "Göyçay           2\n",
      "Ucar             2\n",
      "İmişli           2\n",
      "Yevlax           2\n",
      "Gədəbəy          2\n",
      "Astara           2\n",
      "Ağcabədi         2\n",
      "Biləsuvar        2\n",
      "Salyan           2\n",
      "Füzuli           1\n",
      "Kürdəmir         1\n",
      "Ağdam            1\n",
      "Göytəpə          1\n",
      "Şabran           1\n",
      "Zərdab           1\n",
      "Liman            1\n",
      "Sabirabad        1\n",
      "Ağstafa          1\n",
      "Neftçala         1\n",
      "Qobustan         1\n",
      "Ordubad          1\n",
      "Hacıqabul        1\n",
      "Qax              1\n",
      "Goranboy         1\n",
      "Laçın            1\n",
      "Name: count, dtype: int64\n"
     ]
    }
   ],
   "source": [
    "city_counts = df['City'].value_counts()\n",
    "print(city_counts)\n"
   ]
  },
  {
   "cell_type": "code",
   "execution_count": 274,
   "metadata": {},
   "outputs": [
    {
     "name": "stdout",
     "output_type": "stream",
     "text": [
      "Condition\n",
      "Vuruğu var, rənglənməyib       15711.222222\n",
      "Vuruğu var, rənglənib          19741.666667\n",
      "Vuruğu yoxdur, rənglənib       24414.560694\n",
      "değer yok                      26622.000000\n",
      "Vuruğu yoxdur, rənglənməyib    29036.034537\n",
      "Name: Price, dtype: float64\n"
     ]
    }
   ],
   "source": [
    "average = df.groupby('Condition')['Price'].mean().sort_values()\n",
    "print(average)"
   ]
  },
  {
   "cell_type": "code",
   "execution_count": 275,
   "metadata": {},
   "outputs": [
    {
     "name": "stdout",
     "output_type": "stream",
     "text": [
      "                Price       Mileage\n",
      "İs_New?                            \n",
      "Bəli     50244.086022       0.00000\n",
      "Xeyr     27396.741615  161067.96087\n"
     ]
    }
   ],
   "source": [
    "new_used = df.groupby('İs_New?')[['Price', 'Mileage']].mean()\n",
    "print(new_used)\n"
   ]
  },
  {
   "cell_type": "code",
   "execution_count": 276,
   "metadata": {},
   "outputs": [
    {
     "name": "stdout",
     "output_type": "stream",
     "text": [
      "Body Type\n",
      "Avtobus             3500.000000\n",
      "Furqon              7000.000000\n",
      "Mikroavtobus       12000.000000\n",
      "Universal          16114.708609\n",
      "Hetçbek            16960.780761\n",
      "Kupe               22500.000000\n",
      "Yük maşını         25921.428571\n",
      "Sedan              26412.859599\n",
      "Liftbek            26547.826087\n",
      "Offroader / SUV    34230.474785\n",
      "Minivan            36186.101266\n",
      "Van                42900.000000\n",
      "Name: Price, dtype: float64\n"
     ]
    }
   ],
   "source": [
    "average_price = df.groupby('Body Type')['Price'].mean().sort_values()\n",
    "print(average_price)"
   ]
  },
  {
   "cell_type": "code",
   "execution_count": 277,
   "metadata": {},
   "outputs": [
    {
     "name": "stdout",
     "output_type": "stream",
     "text": [
      "Transmission\n",
      "Avtomat             31107.579849\n",
      "Mexaniki            13626.273292\n",
      "Robotlaşdırılmış    41900.000000\n",
      "Name: Price, dtype: float64\n"
     ]
    }
   ],
   "source": [
    "average_transmission = df.groupby('Transmission')['Price'].mean()\n",
    "print(average_transmission)"
   ]
  },
  {
   "cell_type": "code",
   "execution_count": 278,
   "metadata": {},
   "outputs": [
    {
     "name": "stdout",
     "output_type": "stream",
     "text": [
      "          City Brand    Model  Year        Body Type Color  \\\n",
      "0         Bakı   Kia   Cerato  2019            Sedan   Boz   \n",
      "1         Bakı   Kia  Sorento  2015  Offroader / SUV  Qara   \n",
      "2         Bakı   Kia   Cerato  2022            Sedan    Ağ   \n",
      "3     Sumqayıt   Kia      Rio  2023          Hetçbek    Ağ   \n",
      "4         Bakı   Kia   Cerato  2020            Sedan   Göy   \n",
      "...        ...   ...      ...   ...              ...   ...   \n",
      "3401      Bakı   Kia     Ceed  2007          Hetçbek  Qara   \n",
      "3402      Bakı   Kia   Optima  2016            Sedan    Ağ   \n",
      "3403      Bakı   Kia  Sorento  2015  Offroader / SUV    Ağ   \n",
      "3404      Bakı   Kia   Optima  2016            Sedan    Ağ   \n",
      "3405      Bakı   Kia     Ceed  2010        Universal  Mavi   \n",
      "\n",
      "             Engine Details   Mileage Transmission Drive Type İs_New?  \\\n",
      "0     2.0 L/150 a.g./Benzin   25000.0      Avtomat         Ön    Xeyr   \n",
      "1      2.0 L/184 a.g./Dizel   44000.0      Avtomat        Tam    Xeyr   \n",
      "2     1.6 L/130 a.g./Benzin       0.0      Avtomat         Ön    Bəli   \n",
      "3     1.4 L/107 a.g./Benzin       0.0      Avtomat         Ön    Bəli   \n",
      "4     1.6 L/130 a.g./Benzin   54000.0      Avtomat         Ön    Xeyr   \n",
      "...                     ...       ...          ...        ...     ...   \n",
      "3401   1.6 L/115 a.g./Dizel  224400.0     Mexaniki         Ön    Xeyr   \n",
      "3402   1.7 L/141 a.g./Dizel  118000.0      Avtomat       Arxa    Xeyr   \n",
      "3403   2.0 L/184 a.g./Dizel  122650.0      Avtomat        Tam    Xeyr   \n",
      "3404  2.0 L/274 a.g./Benzin  166000.0      Avtomat         Ön    Xeyr   \n",
      "3405   1.4 L/90 a.g./Benzin  268000.0     Mexaniki         Ön    Xeyr   \n",
      "\n",
      "     Seat Count Owner Count                    Condition       Origin  \\\n",
      "0             5   değer yok  Vuruğu yoxdur, rənglənməyib      Amerika   \n",
      "1     değer yok           1  Vuruğu yoxdur, rənglənməyib       Koreya   \n",
      "2             5   değer yok  Vuruğu yoxdur, rənglənməyib       Avropa   \n",
      "3     değer yok   değer yok  Vuruğu yoxdur, rənglənməyib    değer yok   \n",
      "4             5           1     Vuruğu yoxdur, rənglənib  Rəsmi diler   \n",
      "...         ...         ...                          ...          ...   \n",
      "3401          5           2  Vuruğu yoxdur, rənglənməyib       Avropa   \n",
      "3402          5           1  Vuruğu yoxdur, rənglənməyib       Koreya   \n",
      "3403          5           2  Vuruğu yoxdur, rənglənməyib       Koreya   \n",
      "3404          4           1     Vuruğu yoxdur, rənglənib    değer yok   \n",
      "3405          4   değer yok  Vuruğu yoxdur, rənglənməyib       Avropa   \n",
      "\n",
      "        Price                                Product_link  \\\n",
      "0     30500.0   https://turbo.az/autos/7577541-kia-cerato   \n",
      "1     46500.0  https://turbo.az/autos/7509258-kia-sorento   \n",
      "2     37900.0   https://turbo.az/autos/7593907-kia-cerato   \n",
      "3     35300.0      https://turbo.az/autos/7541951-kia-rio   \n",
      "4     36500.0   https://turbo.az/autos/7573063-kia-cerato   \n",
      "...       ...                                         ...   \n",
      "3401  13400.0     https://turbo.az/autos/7543010-kia-ceed   \n",
      "3402  31800.0   https://turbo.az/autos/7542958-kia-optima   \n",
      "3403  41500.0  https://turbo.az/autos/7542925-kia-sorento   \n",
      "3404  31850.0   https://turbo.az/autos/7542896-kia-optima   \n",
      "3405  11500.0     https://turbo.az/autos/7542870-kia-ceed   \n",
      "\n",
      "                 Saler_name  Engine Capacity (L)  Engine Power (a.g.)  \n",
      "0       Avtosalon \"Eurocar\"                  2.0                150.0  \n",
      "1      Avtosalon \"AEN Cars\"                  2.0                184.0  \n",
      "2     Kia Motors Azerbaijan                  1.6                130.0  \n",
      "3       Kia Motors Sumqayıt                  1.4                107.0  \n",
      "4                    Xanlar                  1.6                130.0  \n",
      "...                     ...                  ...                  ...  \n",
      "3401                  Şahin                  1.6                115.0  \n",
      "3402                   Emin                  1.7                141.0  \n",
      "3403                 Dilqem                  2.0                184.0  \n",
      "3404                  Orxan                  2.0                274.0  \n",
      "3405                  Nicat                  1.4                 90.0  \n",
      "\n",
      "[3406 rows x 20 columns]\n"
     ]
    }
   ],
   "source": [
    "df['Engine Capacity (L)'] = df['Engine Details'].str.extract(r'(\\d+\\.\\d+)').astype(float)\n",
    "df['Engine Power (a.g.)'] = df['Engine Details'].str.extract(r'/(\\d+)').astype(float)\n",
    "print(df)"
   ]
  },
  {
   "cell_type": "code",
   "execution_count": 279,
   "metadata": {},
   "outputs": [
    {
     "name": "stdout",
     "output_type": "stream",
     "text": [
      "          City Brand    Model  Year        Body Type Color  \\\n",
      "0         Bakı   Kia   Cerato  2019            Sedan   Boz   \n",
      "1         Bakı   Kia  Sorento  2015  Offroader / SUV  Qara   \n",
      "2         Bakı   Kia   Cerato  2022            Sedan    Ağ   \n",
      "3     Sumqayıt   Kia      Rio  2023          Hetçbek    Ağ   \n",
      "4         Bakı   Kia   Cerato  2020            Sedan   Göy   \n",
      "...        ...   ...      ...   ...              ...   ...   \n",
      "3401      Bakı   Kia     Ceed  2007          Hetçbek  Qara   \n",
      "3402      Bakı   Kia   Optima  2016            Sedan    Ağ   \n",
      "3403      Bakı   Kia  Sorento  2015  Offroader / SUV    Ağ   \n",
      "3404      Bakı   Kia   Optima  2016            Sedan    Ağ   \n",
      "3405      Bakı   Kia     Ceed  2010        Universal  Mavi   \n",
      "\n",
      "             Engine Details   Mileage Transmission Drive Type  ...  \\\n",
      "0     2.0 L/150 a.g./Benzin   25000.0      Avtomat         Ön  ...   \n",
      "1      2.0 L/184 a.g./Dizel   44000.0      Avtomat        Tam  ...   \n",
      "2     1.6 L/130 a.g./Benzin       0.0      Avtomat         Ön  ...   \n",
      "3     1.4 L/107 a.g./Benzin       0.0      Avtomat         Ön  ...   \n",
      "4     1.6 L/130 a.g./Benzin   54000.0      Avtomat         Ön  ...   \n",
      "...                     ...       ...          ...        ...  ...   \n",
      "3401   1.6 L/115 a.g./Dizel  224400.0     Mexaniki         Ön  ...   \n",
      "3402   1.7 L/141 a.g./Dizel  118000.0      Avtomat       Arxa  ...   \n",
      "3403   2.0 L/184 a.g./Dizel  122650.0      Avtomat        Tam  ...   \n",
      "3404  2.0 L/274 a.g./Benzin  166000.0      Avtomat         Ön  ...   \n",
      "3405   1.4 L/90 a.g./Benzin  268000.0     Mexaniki         Ön  ...   \n",
      "\n",
      "                        Condition       Origin    Price  \\\n",
      "0     Vuruğu yoxdur, rənglənməyib      Amerika  30500.0   \n",
      "1     Vuruğu yoxdur, rənglənməyib       Koreya  46500.0   \n",
      "2     Vuruğu yoxdur, rənglənməyib       Avropa  37900.0   \n",
      "3     Vuruğu yoxdur, rənglənməyib    değer yok  35300.0   \n",
      "4        Vuruğu yoxdur, rənglənib  Rəsmi diler  36500.0   \n",
      "...                           ...          ...      ...   \n",
      "3401  Vuruğu yoxdur, rənglənməyib       Avropa  13400.0   \n",
      "3402  Vuruğu yoxdur, rənglənməyib       Koreya  31800.0   \n",
      "3403  Vuruğu yoxdur, rənglənməyib       Koreya  41500.0   \n",
      "3404     Vuruğu yoxdur, rənglənib    değer yok  31850.0   \n",
      "3405  Vuruğu yoxdur, rənglənməyib       Avropa  11500.0   \n",
      "\n",
      "                                    Product_link             Saler_name  \\\n",
      "0      https://turbo.az/autos/7577541-kia-cerato    Avtosalon \"Eurocar\"   \n",
      "1     https://turbo.az/autos/7509258-kia-sorento   Avtosalon \"AEN Cars\"   \n",
      "2      https://turbo.az/autos/7593907-kia-cerato  Kia Motors Azerbaijan   \n",
      "3         https://turbo.az/autos/7541951-kia-rio    Kia Motors Sumqayıt   \n",
      "4      https://turbo.az/autos/7573063-kia-cerato                 Xanlar   \n",
      "...                                          ...                    ...   \n",
      "3401     https://turbo.az/autos/7543010-kia-ceed                  Şahin   \n",
      "3402   https://turbo.az/autos/7542958-kia-optima                   Emin   \n",
      "3403  https://turbo.az/autos/7542925-kia-sorento                 Dilqem   \n",
      "3404   https://turbo.az/autos/7542896-kia-optima                  Orxan   \n",
      "3405     https://turbo.az/autos/7542870-kia-ceed                  Nicat   \n",
      "\n",
      "      Engine Capacity (L) Engine Power (a.g.) Transmission Code  \\\n",
      "0                     2.0               150.0                 0   \n",
      "1                     2.0               184.0                 0   \n",
      "2                     1.6               130.0                 0   \n",
      "3                     1.4               107.0                 0   \n",
      "4                     1.6               130.0                 0   \n",
      "...                   ...                 ...               ...   \n",
      "3401                  1.6               115.0                 1   \n",
      "3402                  1.7               141.0                 0   \n",
      "3403                  2.0               184.0                 0   \n",
      "3404                  2.0               274.0                 0   \n",
      "3405                  1.4                90.0                 1   \n",
      "\n",
      "      Drive Type Code  Is New  \n",
      "0                   2       0  \n",
      "1                   1       0  \n",
      "2                   2       1  \n",
      "3                   2       1  \n",
      "4                   2       0  \n",
      "...               ...     ...  \n",
      "3401                2       0  \n",
      "3402                0       0  \n",
      "3403                1       0  \n",
      "3404                2       0  \n",
      "3405                2       0  \n",
      "\n",
      "[3406 rows x 23 columns]\n"
     ]
    }
   ],
   "source": [
    "df['Transmission Code'] = df['Transmission'].astype('category').cat.codes\n",
    "df['Drive Type Code'] = df['Drive Type'].astype('category').cat.codes\n",
    "df['Is New'] = df['İs_New?'].map({'Xeyr': 0, 'Bəli': 1})  \n",
    "print(df)"
   ]
  },
  {
   "cell_type": "code",
   "execution_count": 280,
   "metadata": {},
   "outputs": [
    {
     "name": "stdout",
     "output_type": "stream",
     "text": [
      "['Year', 'Mileage', 'Price', 'Engine Capacity (L)', 'Engine Power (a.g.)', 'Is New']\n"
     ]
    }
   ],
   "source": [
    "numeric_cols = ['Year', 'Mileage', 'Price', 'Engine Capacity (L)', 'Engine Power (a.g.)', 'Is New']\n",
    "print(numeric_cols)"
   ]
  },
  {
   "cell_type": "code",
   "execution_count": 281,
   "metadata": {},
   "outputs": [],
   "source": [
    "correlation_matrix = df[numeric_cols].corr()"
   ]
  },
  {
   "cell_type": "code",
   "execution_count": 282,
   "metadata": {},
   "outputs": [
    {
     "name": "stdout",
     "output_type": "stream",
     "text": [
      "Price                  1.000000\n",
      "Year                   0.754606\n",
      "Is New                 0.395989\n",
      "Engine Power (a.g.)    0.388668\n",
      "Engine Capacity (L)    0.237991\n",
      "Mileage               -0.602684\n",
      "Name: Price, dtype: float64\n"
     ]
    }
   ],
   "source": [
    "correlation_with_price = correlation_matrix['Price'].sort_values(ascending=False)\n",
    "print(correlation_with_price)"
   ]
  },
  {
   "cell_type": "code",
   "execution_count": 285,
   "metadata": {},
   "outputs": [
    {
     "name": "stdout",
     "output_type": "stream",
     "text": [
      "          City Brand    Model  Year        Body Type Color   Mileage  \\\n",
      "0         Bakı   Kia   Cerato  2019            Sedan   Boz   25000.0   \n",
      "1         Bakı   Kia  Sorento  2015  Offroader / SUV  Qara   44000.0   \n",
      "2         Bakı   Kia   Cerato  2022            Sedan    Ağ       0.0   \n",
      "3     Sumqayıt   Kia      Rio  2023          Hetçbek    Ağ       0.0   \n",
      "4         Bakı   Kia   Cerato  2020            Sedan   Göy   54000.0   \n",
      "...        ...   ...      ...   ...              ...   ...       ...   \n",
      "3401      Bakı   Kia     Ceed  2007          Hetçbek  Qara  224400.0   \n",
      "3402      Bakı   Kia   Optima  2016            Sedan    Ağ  118000.0   \n",
      "3403      Bakı   Kia  Sorento  2015  Offroader / SUV    Ağ  122650.0   \n",
      "3404      Bakı   Kia   Optima  2016            Sedan    Ağ  166000.0   \n",
      "3405      Bakı   Kia     Ceed  2010        Universal  Mavi  268000.0   \n",
      "\n",
      "     Transmission Drive Type İs_New?  ... Owner Count  \\\n",
      "0         Avtomat         Ön    Xeyr  ...   değer yok   \n",
      "1         Avtomat        Tam    Xeyr  ...           1   \n",
      "2         Avtomat         Ön    Bəli  ...   değer yok   \n",
      "3         Avtomat         Ön    Bəli  ...   değer yok   \n",
      "4         Avtomat         Ön    Xeyr  ...           1   \n",
      "...           ...        ...     ...  ...         ...   \n",
      "3401     Mexaniki         Ön    Xeyr  ...           2   \n",
      "3402      Avtomat       Arxa    Xeyr  ...           1   \n",
      "3403      Avtomat        Tam    Xeyr  ...           2   \n",
      "3404      Avtomat         Ön    Xeyr  ...           1   \n",
      "3405     Mexaniki         Ön    Xeyr  ...   değer yok   \n",
      "\n",
      "                        Condition       Origin  \\\n",
      "0     Vuruğu yoxdur, rənglənməyib      Amerika   \n",
      "1     Vuruğu yoxdur, rənglənməyib       Koreya   \n",
      "2     Vuruğu yoxdur, rənglənməyib       Avropa   \n",
      "3     Vuruğu yoxdur, rənglənməyib    değer yok   \n",
      "4        Vuruğu yoxdur, rənglənib  Rəsmi diler   \n",
      "...                           ...          ...   \n",
      "3401  Vuruğu yoxdur, rənglənməyib       Avropa   \n",
      "3402  Vuruğu yoxdur, rənglənməyib       Koreya   \n",
      "3403  Vuruğu yoxdur, rənglənməyib       Koreya   \n",
      "3404     Vuruğu yoxdur, rənglənib    değer yok   \n",
      "3405  Vuruğu yoxdur, rənglənməyib       Avropa   \n",
      "\n",
      "                                    Product_link             Saler_name  \\\n",
      "0      https://turbo.az/autos/7577541-kia-cerato    Avtosalon \"Eurocar\"   \n",
      "1     https://turbo.az/autos/7509258-kia-sorento   Avtosalon \"AEN Cars\"   \n",
      "2      https://turbo.az/autos/7593907-kia-cerato  Kia Motors Azerbaijan   \n",
      "3         https://turbo.az/autos/7541951-kia-rio    Kia Motors Sumqayıt   \n",
      "4      https://turbo.az/autos/7573063-kia-cerato                 Xanlar   \n",
      "...                                          ...                    ...   \n",
      "3401     https://turbo.az/autos/7543010-kia-ceed                  Şahin   \n",
      "3402   https://turbo.az/autos/7542958-kia-optima                   Emin   \n",
      "3403  https://turbo.az/autos/7542925-kia-sorento                 Dilqem   \n",
      "3404   https://turbo.az/autos/7542896-kia-optima                  Orxan   \n",
      "3405     https://turbo.az/autos/7542870-kia-ceed                  Nicat   \n",
      "\n",
      "     Engine Capacity (L)  Engine Power (a.g.)  Transmission Code  \\\n",
      "0                    2.0                150.0                  0   \n",
      "1                    2.0                184.0                  0   \n",
      "2                    1.6                130.0                  0   \n",
      "3                    1.4                107.0                  0   \n",
      "4                    1.6                130.0                  0   \n",
      "...                  ...                  ...                ...   \n",
      "3401                 1.6                115.0                  1   \n",
      "3402                 1.7                141.0                  0   \n",
      "3403                 2.0                184.0                  0   \n",
      "3404                 2.0                274.0                  0   \n",
      "3405                 1.4                 90.0                  1   \n",
      "\n",
      "      Drive Type Code  Is New  \n",
      "0                   2       0  \n",
      "1                   1       0  \n",
      "2                   2       1  \n",
      "3                   2       1  \n",
      "4                   2       0  \n",
      "...               ...     ...  \n",
      "3401                2       0  \n",
      "3402                0       0  \n",
      "3403                1       0  \n",
      "3404                2       0  \n",
      "3405                2       0  \n",
      "\n",
      "[3406 rows x 21 columns]\n"
     ]
    }
   ],
   "source": [
    "df = df.drop(columns=['Engine Details', 'Price'])\n",
    "print(df)"
   ]
  },
  {
   "cell_type": "code",
   "execution_count": 290,
   "metadata": {},
   "outputs": [
    {
     "name": "stdout",
     "output_type": "stream",
     "text": [
      "      City Brand  Model  Year  Body Type  Color   Mileage  Transmission  \\\n",
      "0       39   Kia     30  2019          2     12   25000.0             0   \n",
      "1       39   Kia     20  2015         11      5   44000.0             0   \n",
      "2       39   Kia     30  2022          2      0       0.0             0   \n",
      "3       22   Kia     14  2023          6      0       0.0             0   \n",
      "4       39   Kia     30  2020          2     14   54000.0             0   \n",
      "...    ...   ...    ...   ...        ...    ...       ...           ...   \n",
      "3401    39   Kia     28  2007          6      5  224400.0             1   \n",
      "3402    39   Kia      6  2016          2      0  118000.0             0   \n",
      "3403    39   Kia     20  2015         11      0  122650.0             0   \n",
      "3404    39   Kia      6  2016          2      0  166000.0             0   \n",
      "3405    39   Kia     28  2010          3      3  268000.0             1   \n",
      "\n",
      "      Drive Type  İs_New?  ... Owner Count Condition  Origin  \\\n",
      "0              2        1  ...   değer yok         3       0   \n",
      "1              1        1  ...           1         3       4   \n",
      "2              2        0  ...   değer yok         3       1   \n",
      "3              2        0  ...   değer yok         3       8   \n",
      "4              2        1  ...           1         2       6   \n",
      "...          ...      ...  ...         ...       ...     ...   \n",
      "3401           2        1  ...           2         3       1   \n",
      "3402           0        1  ...           1         3       4   \n",
      "3403           1        1  ...           2         3       4   \n",
      "3404           2        1  ...           1         2       8   \n",
      "3405           2        1  ...   değer yok         3       1   \n",
      "\n",
      "                                    Product_link Saler_name  \\\n",
      "0      https://turbo.az/autos/7577541-kia-cerato        201   \n",
      "1     https://turbo.az/autos/7509258-kia-sorento        750   \n",
      "2      https://turbo.az/autos/7593907-kia-cerato        225   \n",
      "3         https://turbo.az/autos/7541951-kia-rio        228   \n",
      "4      https://turbo.az/autos/7573063-kia-cerato        592   \n",
      "...                                          ...        ...   \n",
      "3401     https://turbo.az/autos/7543010-kia-ceed        698   \n",
      "3402   https://turbo.az/autos/7542958-kia-optima        117   \n",
      "3403  https://turbo.az/autos/7542925-kia-sorento         50   \n",
      "3404   https://turbo.az/autos/7542896-kia-optima        338   \n",
      "3405     https://turbo.az/autos/7542870-kia-ceed        307   \n",
      "\n",
      "      Engine Capacity (L)  Engine Power (a.g.)  Transmission Code  \\\n",
      "0                     2.0                150.0                  0   \n",
      "1                     2.0                184.0                  0   \n",
      "2                     1.6                130.0                  0   \n",
      "3                     1.4                107.0                  0   \n",
      "4                     1.6                130.0                  0   \n",
      "...                   ...                  ...                ...   \n",
      "3401                  1.6                115.0                  1   \n",
      "3402                  1.7                141.0                  0   \n",
      "3403                  2.0                184.0                  0   \n",
      "3404                  2.0                274.0                  0   \n",
      "3405                  1.4                 90.0                  1   \n",
      "\n",
      "      Drive Type Code  Is New  \n",
      "0                   2       0  \n",
      "1                   1       0  \n",
      "2                   2       1  \n",
      "3                   2       1  \n",
      "4                   2       0  \n",
      "...               ...     ...  \n",
      "3401                2       0  \n",
      "3402                0       0  \n",
      "3403                1       0  \n",
      "3404                2       0  \n",
      "3405                2       0  \n",
      "\n",
      "[3406 rows x 21 columns]\n"
     ]
    }
   ],
   "source": [
    "le = LabelEncoder()\n",
    "categorical_columns = ['City', 'Model', 'Body Type', 'Color', 'Transmission', 'Drive Type', 'İs_New?', 'Condition', 'Origin', 'Saler_name']\n",
    "for col in categorical_columns:\n",
    "    df[col] = le.fit_transform(df[col].astype(str))\n",
    "print(df)"
   ]
  },
  {
   "cell_type": "code",
   "execution_count": null,
   "metadata": {},
   "outputs": [],
   "source": []
  }
 ],
 "metadata": {
  "kernelspec": {
   "display_name": "base",
   "language": "python",
   "name": "python3"
  },
  "language_info": {
   "codemirror_mode": {
    "name": "ipython",
    "version": 3
   },
   "file_extension": ".py",
   "mimetype": "text/x-python",
   "name": "python",
   "nbconvert_exporter": "python",
   "pygments_lexer": "ipython3",
   "version": "3.11.5"
  }
 },
 "nbformat": 4,
 "nbformat_minor": 2
}
